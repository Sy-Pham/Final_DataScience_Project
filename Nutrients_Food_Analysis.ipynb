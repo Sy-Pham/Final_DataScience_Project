{
 "cells": [
  {
   "cell_type": "markdown",
   "metadata": {},
   "source": [
    "# ĐỒ ÁN CUỐI KÌ MÔN NHẬP MÔN KHOA HỌC DỮ LIỆU\n"
   ]
  },
  {
   "cell_type": "markdown",
   "metadata": {},
   "source": [
    "### Giảng viên hướng dần: Thầy Trần Trung Kiên\n",
    "### Thành viên thực hiện\n",
    "- 18120529: Phan Văn Võ Quyền\n",
    "- 18120540: Phạm Minh Sỹ"
   ]
  },
  {
   "cell_type": "markdown",
   "metadata": {},
   "source": [
    "## Import"
   ]
  },
  {
   "cell_type": "code",
   "execution_count": 1,
   "metadata": {},
   "outputs": [],
   "source": [
    "import pandas as pd\n",
    "import numpy as np\n",
    "import re\n",
    "import requests\n",
    "import matplotlib.pyplot as plt\n",
    "import seaborn as sns\n",
    "%matplotlib inline\n",
    "\n",
    "from sklearn.model_selection import train_test_split\n",
    "from sklearn.base import BaseEstimator, TransformerMixin\n",
    "from sklearn.pipeline import Pipeline, make_pipeline\n",
    "from sklearn.impute import SimpleImputer\n",
    "from sklearn.preprocessing import OneHotEncoder, StandardScaler\n",
    "from sklearn.decomposition import PCA\n",
    "from sklearn.neural_network import MLPClassifier, MLPRegressor\n",
    "from sklearn.svm import SVR\n",
    "from sklearn.ensemble import RandomForestRegressor"
   ]
  },
  {
   "cell_type": "markdown",
   "metadata": {},
   "source": [
    "## Thu thập dữ liệu"
   ]
  },
  {
   "cell_type": "markdown",
   "metadata": {},
   "source": [
    "Dữ liệu về phân tích thành phần dinh dưỡng trong thức ăn trên trang wed  của USDA\n",
    "\n",
    "Việc truy cập vào API không bị giới hạn nhưng người dùng cần phải đăng ký key để có thể đăng nhập\n",
    "\n",
    "Link API document: https://fdc.nal.usda.gov/api-guide.html"
   ]
  },
  {
   "cell_type": "code",
   "execution_count": 2,
   "metadata": {},
   "outputs": [],
   "source": [
    "all_data = []\n",
    "max_page_number = 100\n",
    "page = 1\n",
    "api_key = 'sfU1TsyAobqAYE5pyGO1Jbhg1GR5kjnVz2HObgVK'\n",
    "while page <= max_page_number:\n",
    "    url = f'https://api.nal.usda.gov/fdc/v1/foods/list?api_key={api_key}&pageSize=100&pageNumber={page}'\n",
    "    response = requests.get(url)\n",
    "    data  = response.json()\n",
    "    all_data.extend(data)\n",
    "    #print(page)\n",
    "    page += 1\n",
    "    \n",
    "data_set = pd.DataFrame(all_data)\n",
    "data_set.to_json('data.json')\n",
    "data_set.to_csv('data.csv')"
   ]
  },
  {
   "cell_type": "markdown",
   "metadata": {},
   "source": [
    "## Khám phá dữ liệu( đủ để xác định câu hỏi)"
   ]
  },
  {
   "cell_type": "markdown",
   "metadata": {},
   "source": [
    "### Đọc dữ liệu từ file"
   ]
  },
  {
   "cell_type": "code",
   "execution_count": 3,
   "metadata": {},
   "outputs": [],
   "source": [
    "df = pd.read_json('data.json')"
   ]
  },
  {
   "cell_type": "code",
   "execution_count": 4,
   "metadata": {},
   "outputs": [
    {
     "data": {
      "text/html": [
       "<div>\n",
       "<style scoped>\n",
       "    .dataframe tbody tr th:only-of-type {\n",
       "        vertical-align: middle;\n",
       "    }\n",
       "\n",
       "    .dataframe tbody tr th {\n",
       "        vertical-align: top;\n",
       "    }\n",
       "\n",
       "    .dataframe thead th {\n",
       "        text-align: right;\n",
       "    }\n",
       "</style>\n",
       "<table border=\"1\" class=\"dataframe\">\n",
       "  <thead>\n",
       "    <tr style=\"text-align: right;\">\n",
       "      <th></th>\n",
       "      <th>fdcId</th>\n",
       "      <th>description</th>\n",
       "      <th>dataType</th>\n",
       "      <th>publicationDate</th>\n",
       "      <th>foodCode</th>\n",
       "      <th>foodNutrients</th>\n",
       "      <th>ndbNumber</th>\n",
       "    </tr>\n",
       "  </thead>\n",
       "  <tbody>\n",
       "    <tr>\n",
       "      <th>0</th>\n",
       "      <td>1104067</td>\n",
       "      <td>100 GRAND Bar</td>\n",
       "      <td>Survey (FNDDS)</td>\n",
       "      <td>2020-10-30</td>\n",
       "      <td>91715300.0</td>\n",
       "      <td>[{'number': '203', 'name': 'Protein', 'amount': 2.5, 'unitName': 'G'}, {'number': '204', 'name': 'Total lipid (fat)', 'amount': 19.3, 'unitName': 'G'}, {'number': '205', 'name': 'Carbohydrate, by difference', 'amount': 71.0, 'unitName': 'G'}, {'n...</td>\n",
       "      <td>NaN</td>\n",
       "    </tr>\n",
       "    <tr>\n",
       "      <th>1</th>\n",
       "      <td>1104086</td>\n",
       "      <td>3 MUSKETEERS Bar</td>\n",
       "      <td>Survey (FNDDS)</td>\n",
       "      <td>2020-10-30</td>\n",
       "      <td>91726420.0</td>\n",
       "      <td>[{'number': '203', 'name': 'Protein', 'amount': 2.6, 'unitName': 'G'}, {'number': '204', 'name': 'Total lipid (fat)', 'amount': 12.8, 'unitName': 'G'}, {'number': '205', 'name': 'Carbohydrate, by difference', 'amount': 77.8, 'unitName': 'G'}, {'n...</td>\n",
       "      <td>NaN</td>\n",
       "    </tr>\n",
       "    <tr>\n",
       "      <th>2</th>\n",
       "      <td>1104087</td>\n",
       "      <td>3 Musketeers Truffle Crisp Bar</td>\n",
       "      <td>Survey (FNDDS)</td>\n",
       "      <td>2020-10-30</td>\n",
       "      <td>91726425.0</td>\n",
       "      <td>[{'number': '203', 'name': 'Protein', 'amount': 6.41, 'unitName': 'G'}, {'number': '204', 'name': 'Total lipid (fat)', 'amount': 28.8, 'unitName': 'G'}, {'number': '205', 'name': 'Carbohydrate, by difference', 'amount': 63.2, 'unitName': 'G'}, {'...</td>\n",
       "      <td>NaN</td>\n",
       "    </tr>\n",
       "    <tr>\n",
       "      <th>3</th>\n",
       "      <td>1099098</td>\n",
       "      <td>Abalone, cooked, NS as to cooking method</td>\n",
       "      <td>Survey (FNDDS)</td>\n",
       "      <td>2020-10-30</td>\n",
       "      <td>26301110.0</td>\n",
       "      <td>[{'number': '203', 'name': 'Protein', 'amount': 20.4, 'unitName': 'G'}, {'number': '204', 'name': 'Total lipid (fat)', 'amount': 4.59, 'unitName': 'G'}, {'number': '205', 'name': 'Carbohydrate, by difference', 'amount': 7.26, 'unitName': 'G'}, {'...</td>\n",
       "      <td>NaN</td>\n",
       "    </tr>\n",
       "    <tr>\n",
       "      <th>4</th>\n",
       "      <td>1099099</td>\n",
       "      <td>Abalone, floured or breaded, fried</td>\n",
       "      <td>Survey (FNDDS)</td>\n",
       "      <td>2020-10-30</td>\n",
       "      <td>26301140.0</td>\n",
       "      <td>[{'number': '203', 'name': 'Protein', 'amount': 18.2, 'unitName': 'G'}, {'number': '204', 'name': 'Total lipid (fat)', 'amount': 11.4, 'unitName': 'G'}, {'number': '205', 'name': 'Carbohydrate, by difference', 'amount': 15.5, 'unitName': 'G'}, {'...</td>\n",
       "      <td>NaN</td>\n",
       "    </tr>\n",
       "    <tr>\n",
       "      <th>5</th>\n",
       "      <td>1099100</td>\n",
       "      <td>Abalone, steamed or poached</td>\n",
       "      <td>Survey (FNDDS)</td>\n",
       "      <td>2020-10-30</td>\n",
       "      <td>26301160.0</td>\n",
       "      <td>[{'number': '203', 'name': 'Protein', 'amount': 34.0, 'unitName': 'G'}, {'number': '204', 'name': 'Total lipid (fat)', 'amount': 1.51, 'unitName': 'G'}, {'number': '205', 'name': 'Carbohydrate, by difference', 'amount': 12.0, 'unitName': 'G'}, {'...</td>\n",
       "      <td>NaN</td>\n",
       "    </tr>\n",
       "    <tr>\n",
       "      <th>6</th>\n",
       "      <td>167782</td>\n",
       "      <td>Abiyuch, raw</td>\n",
       "      <td>SR Legacy</td>\n",
       "      <td>2019-04-01</td>\n",
       "      <td>NaN</td>\n",
       "      <td>[{'number': '318', 'name': 'Vitamin A, IU', 'amount': 100, 'unitName': 'IU', 'derivationCode': 'A', 'derivationDescription': 'Analytical'}, {'number': '268', 'name': 'Energy', 'amount': 290, 'unitName': 'kJ', 'derivationCode': 'NC', 'derivationDe...</td>\n",
       "      <td>9427.0</td>\n",
       "    </tr>\n",
       "    <tr>\n",
       "      <th>7</th>\n",
       "      <td>171687</td>\n",
       "      <td>Acerola juice, raw</td>\n",
       "      <td>SR Legacy</td>\n",
       "      <td>2019-04-01</td>\n",
       "      <td>NaN</td>\n",
       "      <td>[{'number': '268', 'name': 'Energy', 'amount': 96.0, 'unitName': 'kJ'}, {'number': '431', 'name': 'Folic acid', 'amount': 0.0, 'unitName': 'UG', 'derivationCode': 'Z', 'derivationDescription': 'Assumed zero (Insignificant amount or not naturally ...</td>\n",
       "      <td>9002.0</td>\n",
       "    </tr>\n",
       "    <tr>\n",
       "      <th>8</th>\n",
       "      <td>171686</td>\n",
       "      <td>Acerola, (west indian cherry), raw</td>\n",
       "      <td>SR Legacy</td>\n",
       "      <td>2019-04-01</td>\n",
       "      <td>NaN</td>\n",
       "      <td>[{'number': '268', 'name': 'Energy', 'amount': 134, 'unitName': 'kJ'}, {'number': '431', 'name': 'Folic acid', 'amount': 0.0, 'unitName': 'UG', 'derivationCode': 'Z', 'derivationDescription': 'Assumed zero (Insignificant amount or not naturally o...</td>\n",
       "      <td>9001.0</td>\n",
       "    </tr>\n",
       "    <tr>\n",
       "      <th>9</th>\n",
       "      <td>168061</td>\n",
       "      <td>Acorn stew (Apache)</td>\n",
       "      <td>SR Legacy</td>\n",
       "      <td>2019-04-01</td>\n",
       "      <td>NaN</td>\n",
       "      <td>[{'number': '429', 'name': 'Vitamin K (Dihydrophylloquinone)', 'amount': 0.0, 'unitName': 'UG', 'derivationCode': 'A', 'derivationDescription': 'Analytical'}, {'number': '430', 'name': 'Vitamin K (phylloquinone)', 'amount': 0.0, 'unitName': 'UG',...</td>\n",
       "      <td>35182.0</td>\n",
       "    </tr>\n",
       "    <tr>\n",
       "      <th>10</th>\n",
       "      <td>1102193</td>\n",
       "      <td>Adobo, with noodles</td>\n",
       "      <td>Survey (FNDDS)</td>\n",
       "      <td>2020-10-30</td>\n",
       "      <td>58137300.0</td>\n",
       "      <td>[{'number': '203', 'name': 'Protein', 'amount': 16.9, 'unitName': 'G'}, {'number': '204', 'name': 'Total lipid (fat)', 'amount': 7.66, 'unitName': 'G'}, {'number': '205', 'name': 'Carbohydrate, by difference', 'amount': 8.16, 'unitName': 'G'}, {'...</td>\n",
       "      <td>NaN</td>\n",
       "    </tr>\n",
       "    <tr>\n",
       "      <th>11</th>\n",
       "      <td>1102343</td>\n",
       "      <td>Adobo, with rice</td>\n",
       "      <td>Survey (FNDDS)</td>\n",
       "      <td>2020-10-30</td>\n",
       "      <td>58150530.0</td>\n",
       "      <td>[{'number': '203', 'name': 'Protein', 'amount': 17.7, 'unitName': 'G'}, {'number': '204', 'name': 'Total lipid (fat)', 'amount': 7.94, 'unitName': 'G'}, {'number': '205', 'name': 'Carbohydrate, by difference', 'amount': 8.88, 'unitName': 'G'}, {'...</td>\n",
       "      <td>NaN</td>\n",
       "    </tr>\n",
       "    <tr>\n",
       "      <th>12</th>\n",
       "      <td>1103957</td>\n",
       "      <td>Agave liquid sweetener</td>\n",
       "      <td>Survey (FNDDS)</td>\n",
       "      <td>2020-10-30</td>\n",
       "      <td>91302020.0</td>\n",
       "      <td>[{'number': '203', 'name': 'Protein', 'amount': 0.09, 'unitName': 'G'}, {'number': '204', 'name': 'Total lipid (fat)', 'amount': 0.45, 'unitName': 'G'}, {'number': '205', 'name': 'Carbohydrate, by difference', 'amount': 76.4, 'unitName': 'G'}, {'...</td>\n",
       "      <td>NaN</td>\n",
       "    </tr>\n",
       "    <tr>\n",
       "      <th>13</th>\n",
       "      <td>168992</td>\n",
       "      <td>Agave, cooked (Southwest)</td>\n",
       "      <td>SR Legacy</td>\n",
       "      <td>2019-04-01</td>\n",
       "      <td>NaN</td>\n",
       "      <td>[{'number': '324', 'name': 'Vitamin D (D2 + D3), International Units', 'amount': 0.0, 'unitName': 'IU', 'derivationCode': 'Z', 'derivationDescription': 'Assumed zero (Insignificant amount or not naturally occurring in a food, such as fiber in mea...</td>\n",
       "      <td>35193.0</td>\n",
       "    </tr>\n",
       "    <tr>\n",
       "      <th>14</th>\n",
       "      <td>168993</td>\n",
       "      <td>Agave, dried (Southwest)</td>\n",
       "      <td>SR Legacy</td>\n",
       "      <td>2019-04-01</td>\n",
       "      <td>NaN</td>\n",
       "      <td>[{'number': '324', 'name': 'Vitamin D (D2 + D3), International Units', 'amount': 0.0, 'unitName': 'IU', 'derivationCode': 'Z', 'derivationDescription': 'Assumed zero (Insignificant amount or not naturally occurring in a food, such as fiber in mea...</td>\n",
       "      <td>35194.0</td>\n",
       "    </tr>\n",
       "    <tr>\n",
       "      <th>15</th>\n",
       "      <td>169814</td>\n",
       "      <td>Agave, raw (Southwest)</td>\n",
       "      <td>SR Legacy</td>\n",
       "      <td>2019-04-01</td>\n",
       "      <td>NaN</td>\n",
       "      <td>[{'number': '324', 'name': 'Vitamin D (D2 + D3), International Units', 'amount': 0.0, 'unitName': 'IU', 'derivationCode': 'Z', 'derivationDescription': 'Assumed zero (Insignificant amount or not naturally occurring in a food, such as fiber in mea...</td>\n",
       "      <td>35192.0</td>\n",
       "    </tr>\n",
       "    <tr>\n",
       "      <th>16</th>\n",
       "      <td>169823</td>\n",
       "      <td>Agutuk, fish with shortening (Alaskan ice cream) (Alaska Native)</td>\n",
       "      <td>SR Legacy</td>\n",
       "      <td>2019-04-01</td>\n",
       "      <td>NaN</td>\n",
       "      <td>[{'number': '618', 'name': '18:2', 'amount': 16.1, 'unitName': 'G', 'derivationCode': 'AI', 'derivationDescription': 'Analytical data; from the literature or  government;  incomplete documentation'}, {'number': '619', 'name': '18:3', 'amount': 0....</td>\n",
       "      <td>35225.0</td>\n",
       "    </tr>\n",
       "    <tr>\n",
       "      <th>17</th>\n",
       "      <td>168976</td>\n",
       "      <td>Agutuk, fish/berry with seal oil (Alaskan ice cream) (Alaska Native)</td>\n",
       "      <td>SR Legacy</td>\n",
       "      <td>2019-04-01</td>\n",
       "      <td>NaN</td>\n",
       "      <td>[{'number': '618', 'name': '18:2', 'amount': 7.1, 'unitName': 'G', 'derivationCode': 'AI', 'derivationDescription': 'Analytical data; from the literature or  government;  incomplete documentation'}, {'number': '619', 'name': '18:3', 'amount': 0.5...</td>\n",
       "      <td>35001.0</td>\n",
       "    </tr>\n",
       "    <tr>\n",
       "      <th>18</th>\n",
       "      <td>168977</td>\n",
       "      <td>Agutuk, meat-caribou (Alaskan ice cream) (Alaska Native)</td>\n",
       "      <td>SR Legacy</td>\n",
       "      <td>2019-04-01</td>\n",
       "      <td>NaN</td>\n",
       "      <td>[{'number': '618', 'name': '18:2', 'amount': 0.51, 'unitName': 'G', 'derivationCode': 'AI', 'derivationDescription': 'Analytical data; from the literature or  government;  incomplete documentation'}, {'number': '619', 'name': '18:3', 'amount': 0....</td>\n",
       "      <td>35003.0</td>\n",
       "    </tr>\n",
       "    <tr>\n",
       "      <th>19</th>\n",
       "      <td>1101164</td>\n",
       "      <td>Air filled fritter or fried puff, without syrup, Puerto Rican style</td>\n",
       "      <td>Survey (FNDDS)</td>\n",
       "      <td>2020-10-30</td>\n",
       "      <td>53420300.0</td>\n",
       "      <td>[{'number': '203', 'name': 'Protein', 'amount': 6.46, 'unitName': 'G'}, {'number': '204', 'name': 'Total lipid (fat)', 'amount': 23.8, 'unitName': 'G'}, {'number': '205', 'name': 'Carbohydrate, by difference', 'amount': 50.2, 'unitName': 'G'}, {'...</td>\n",
       "      <td>NaN</td>\n",
       "    </tr>\n",
       "  </tbody>\n",
       "</table>\n",
       "</div>"
      ],
      "text/plain": [
       "      fdcId  \\\n",
       "0   1104067   \n",
       "1   1104086   \n",
       "2   1104087   \n",
       "3   1099098   \n",
       "4   1099099   \n",
       "5   1099100   \n",
       "6    167782   \n",
       "7    171687   \n",
       "8    171686   \n",
       "9    168061   \n",
       "10  1102193   \n",
       "11  1102343   \n",
       "12  1103957   \n",
       "13   168992   \n",
       "14   168993   \n",
       "15   169814   \n",
       "16   169823   \n",
       "17   168976   \n",
       "18   168977   \n",
       "19  1101164   \n",
       "\n",
       "                                                             description  \\\n",
       "0                                                          100 GRAND Bar   \n",
       "1                                                       3 MUSKETEERS Bar   \n",
       "2                                         3 Musketeers Truffle Crisp Bar   \n",
       "3                               Abalone, cooked, NS as to cooking method   \n",
       "4                                     Abalone, floured or breaded, fried   \n",
       "5                                            Abalone, steamed or poached   \n",
       "6                                                           Abiyuch, raw   \n",
       "7                                                     Acerola juice, raw   \n",
       "8                                     Acerola, (west indian cherry), raw   \n",
       "9                                                    Acorn stew (Apache)   \n",
       "10                                                   Adobo, with noodles   \n",
       "11                                                      Adobo, with rice   \n",
       "12                                                Agave liquid sweetener   \n",
       "13                                             Agave, cooked (Southwest)   \n",
       "14                                              Agave, dried (Southwest)   \n",
       "15                                                Agave, raw (Southwest)   \n",
       "16      Agutuk, fish with shortening (Alaskan ice cream) (Alaska Native)   \n",
       "17  Agutuk, fish/berry with seal oil (Alaskan ice cream) (Alaska Native)   \n",
       "18              Agutuk, meat-caribou (Alaskan ice cream) (Alaska Native)   \n",
       "19   Air filled fritter or fried puff, without syrup, Puerto Rican style   \n",
       "\n",
       "          dataType publicationDate    foodCode  \\\n",
       "0   Survey (FNDDS)      2020-10-30  91715300.0   \n",
       "1   Survey (FNDDS)      2020-10-30  91726420.0   \n",
       "2   Survey (FNDDS)      2020-10-30  91726425.0   \n",
       "3   Survey (FNDDS)      2020-10-30  26301110.0   \n",
       "4   Survey (FNDDS)      2020-10-30  26301140.0   \n",
       "5   Survey (FNDDS)      2020-10-30  26301160.0   \n",
       "6        SR Legacy      2019-04-01         NaN   \n",
       "7        SR Legacy      2019-04-01         NaN   \n",
       "8        SR Legacy      2019-04-01         NaN   \n",
       "9        SR Legacy      2019-04-01         NaN   \n",
       "10  Survey (FNDDS)      2020-10-30  58137300.0   \n",
       "11  Survey (FNDDS)      2020-10-30  58150530.0   \n",
       "12  Survey (FNDDS)      2020-10-30  91302020.0   \n",
       "13       SR Legacy      2019-04-01         NaN   \n",
       "14       SR Legacy      2019-04-01         NaN   \n",
       "15       SR Legacy      2019-04-01         NaN   \n",
       "16       SR Legacy      2019-04-01         NaN   \n",
       "17       SR Legacy      2019-04-01         NaN   \n",
       "18       SR Legacy      2019-04-01         NaN   \n",
       "19  Survey (FNDDS)      2020-10-30  53420300.0   \n",
       "\n",
       "                                                                                                                                                                                                                                                foodNutrients  \\\n",
       "0   [{'number': '203', 'name': 'Protein', 'amount': 2.5, 'unitName': 'G'}, {'number': '204', 'name': 'Total lipid (fat)', 'amount': 19.3, 'unitName': 'G'}, {'number': '205', 'name': 'Carbohydrate, by difference', 'amount': 71.0, 'unitName': 'G'}, {'n...   \n",
       "1   [{'number': '203', 'name': 'Protein', 'amount': 2.6, 'unitName': 'G'}, {'number': '204', 'name': 'Total lipid (fat)', 'amount': 12.8, 'unitName': 'G'}, {'number': '205', 'name': 'Carbohydrate, by difference', 'amount': 77.8, 'unitName': 'G'}, {'n...   \n",
       "2   [{'number': '203', 'name': 'Protein', 'amount': 6.41, 'unitName': 'G'}, {'number': '204', 'name': 'Total lipid (fat)', 'amount': 28.8, 'unitName': 'G'}, {'number': '205', 'name': 'Carbohydrate, by difference', 'amount': 63.2, 'unitName': 'G'}, {'...   \n",
       "3   [{'number': '203', 'name': 'Protein', 'amount': 20.4, 'unitName': 'G'}, {'number': '204', 'name': 'Total lipid (fat)', 'amount': 4.59, 'unitName': 'G'}, {'number': '205', 'name': 'Carbohydrate, by difference', 'amount': 7.26, 'unitName': 'G'}, {'...   \n",
       "4   [{'number': '203', 'name': 'Protein', 'amount': 18.2, 'unitName': 'G'}, {'number': '204', 'name': 'Total lipid (fat)', 'amount': 11.4, 'unitName': 'G'}, {'number': '205', 'name': 'Carbohydrate, by difference', 'amount': 15.5, 'unitName': 'G'}, {'...   \n",
       "5   [{'number': '203', 'name': 'Protein', 'amount': 34.0, 'unitName': 'G'}, {'number': '204', 'name': 'Total lipid (fat)', 'amount': 1.51, 'unitName': 'G'}, {'number': '205', 'name': 'Carbohydrate, by difference', 'amount': 12.0, 'unitName': 'G'}, {'...   \n",
       "6   [{'number': '318', 'name': 'Vitamin A, IU', 'amount': 100, 'unitName': 'IU', 'derivationCode': 'A', 'derivationDescription': 'Analytical'}, {'number': '268', 'name': 'Energy', 'amount': 290, 'unitName': 'kJ', 'derivationCode': 'NC', 'derivationDe...   \n",
       "7   [{'number': '268', 'name': 'Energy', 'amount': 96.0, 'unitName': 'kJ'}, {'number': '431', 'name': 'Folic acid', 'amount': 0.0, 'unitName': 'UG', 'derivationCode': 'Z', 'derivationDescription': 'Assumed zero (Insignificant amount or not naturally ...   \n",
       "8   [{'number': '268', 'name': 'Energy', 'amount': 134, 'unitName': 'kJ'}, {'number': '431', 'name': 'Folic acid', 'amount': 0.0, 'unitName': 'UG', 'derivationCode': 'Z', 'derivationDescription': 'Assumed zero (Insignificant amount or not naturally o...   \n",
       "9   [{'number': '429', 'name': 'Vitamin K (Dihydrophylloquinone)', 'amount': 0.0, 'unitName': 'UG', 'derivationCode': 'A', 'derivationDescription': 'Analytical'}, {'number': '430', 'name': 'Vitamin K (phylloquinone)', 'amount': 0.0, 'unitName': 'UG',...   \n",
       "10  [{'number': '203', 'name': 'Protein', 'amount': 16.9, 'unitName': 'G'}, {'number': '204', 'name': 'Total lipid (fat)', 'amount': 7.66, 'unitName': 'G'}, {'number': '205', 'name': 'Carbohydrate, by difference', 'amount': 8.16, 'unitName': 'G'}, {'...   \n",
       "11  [{'number': '203', 'name': 'Protein', 'amount': 17.7, 'unitName': 'G'}, {'number': '204', 'name': 'Total lipid (fat)', 'amount': 7.94, 'unitName': 'G'}, {'number': '205', 'name': 'Carbohydrate, by difference', 'amount': 8.88, 'unitName': 'G'}, {'...   \n",
       "12  [{'number': '203', 'name': 'Protein', 'amount': 0.09, 'unitName': 'G'}, {'number': '204', 'name': 'Total lipid (fat)', 'amount': 0.45, 'unitName': 'G'}, {'number': '205', 'name': 'Carbohydrate, by difference', 'amount': 76.4, 'unitName': 'G'}, {'...   \n",
       "13  [{'number': '324', 'name': 'Vitamin D (D2 + D3), International Units', 'amount': 0.0, 'unitName': 'IU', 'derivationCode': 'Z', 'derivationDescription': 'Assumed zero (Insignificant amount or not naturally occurring in a food, such as fiber in mea...   \n",
       "14  [{'number': '324', 'name': 'Vitamin D (D2 + D3), International Units', 'amount': 0.0, 'unitName': 'IU', 'derivationCode': 'Z', 'derivationDescription': 'Assumed zero (Insignificant amount or not naturally occurring in a food, such as fiber in mea...   \n",
       "15  [{'number': '324', 'name': 'Vitamin D (D2 + D3), International Units', 'amount': 0.0, 'unitName': 'IU', 'derivationCode': 'Z', 'derivationDescription': 'Assumed zero (Insignificant amount or not naturally occurring in a food, such as fiber in mea...   \n",
       "16  [{'number': '618', 'name': '18:2', 'amount': 16.1, 'unitName': 'G', 'derivationCode': 'AI', 'derivationDescription': 'Analytical data; from the literature or  government;  incomplete documentation'}, {'number': '619', 'name': '18:3', 'amount': 0....   \n",
       "17  [{'number': '618', 'name': '18:2', 'amount': 7.1, 'unitName': 'G', 'derivationCode': 'AI', 'derivationDescription': 'Analytical data; from the literature or  government;  incomplete documentation'}, {'number': '619', 'name': '18:3', 'amount': 0.5...   \n",
       "18  [{'number': '618', 'name': '18:2', 'amount': 0.51, 'unitName': 'G', 'derivationCode': 'AI', 'derivationDescription': 'Analytical data; from the literature or  government;  incomplete documentation'}, {'number': '619', 'name': '18:3', 'amount': 0....   \n",
       "19  [{'number': '203', 'name': 'Protein', 'amount': 6.46, 'unitName': 'G'}, {'number': '204', 'name': 'Total lipid (fat)', 'amount': 23.8, 'unitName': 'G'}, {'number': '205', 'name': 'Carbohydrate, by difference', 'amount': 50.2, 'unitName': 'G'}, {'...   \n",
       "\n",
       "    ndbNumber  \n",
       "0         NaN  \n",
       "1         NaN  \n",
       "2         NaN  \n",
       "3         NaN  \n",
       "4         NaN  \n",
       "5         NaN  \n",
       "6      9427.0  \n",
       "7      9002.0  \n",
       "8      9001.0  \n",
       "9     35182.0  \n",
       "10        NaN  \n",
       "11        NaN  \n",
       "12        NaN  \n",
       "13    35193.0  \n",
       "14    35194.0  \n",
       "15    35192.0  \n",
       "16    35225.0  \n",
       "17    35001.0  \n",
       "18    35003.0  \n",
       "19        NaN  "
      ]
     },
     "execution_count": 4,
     "metadata": {},
     "output_type": "execute_result"
    }
   ],
   "source": [
    "pd.set_option('display.max_colwidth', 250)\n",
    "df.head(20)"
   ]
  },
  {
   "cell_type": "markdown",
   "metadata": {},
   "source": [
    "### Số dòng và số cột của dữ liệu"
   ]
  },
  {
   "cell_type": "code",
   "execution_count": 5,
   "metadata": {},
   "outputs": [
    {
     "data": {
      "text/plain": [
       "(10000, 7)"
      ]
     },
     "execution_count": 5,
     "metadata": {},
     "output_type": "execute_result"
    }
   ],
   "source": [
    "df.shape"
   ]
  },
  {
   "cell_type": "markdown",
   "metadata": {},
   "source": [
    "### Số dòng dữ liệu bị lặp"
   ]
  },
  {
   "cell_type": "code",
   "execution_count": 6,
   "metadata": {},
   "outputs": [
    {
     "data": {
      "text/plain": [
       "0"
      ]
     },
     "execution_count": 6,
     "metadata": {},
     "output_type": "execute_result"
    }
   ],
   "source": [
    "df['fdcId'].duplicated().sum()"
   ]
  },
  {
   "cell_type": "markdown",
   "metadata": {},
   "source": [
    "## Các cột dữ liệu bị thiếu"
   ]
  },
  {
   "cell_type": "code",
   "execution_count": 7,
   "metadata": {},
   "outputs": [
    {
     "data": {
      "text/plain": [
       "fdcId                 0\n",
       "description           0\n",
       "dataType              0\n",
       "publicationDate       0\n",
       "foodCode           5402\n",
       "foodNutrients         0\n",
       "ndbNumber          4603\n",
       "dtype: int64"
      ]
     },
     "execution_count": 7,
     "metadata": {},
     "output_type": "execute_result"
    }
   ],
   "source": [
    "df.isnull().sum()"
   ]
  },
  {
   "cell_type": "markdown",
   "metadata": {},
   "source": [
    "### Ý nghĩa của mỗi dòng"
   ]
  },
  {
   "cell_type": "markdown",
   "metadata": {},
   "source": [
    "Kết quả phân tích thành phần dinh dưỡng của một loại món ăn"
   ]
  },
  {
   "cell_type": "markdown",
   "metadata": {},
   "source": [
    "### Ý nghĩa của mỗi cột"
   ]
  },
  {
   "cell_type": "markdown",
   "metadata": {},
   "source": [
    "Mô tả chi tiết về các loại thuộc tính trong dữ liệu: https://fdc.nal.usda.gov/docs/Foundation_Foods_Documentation_Oct2020.pdf"
   ]
  },
  {
   "cell_type": "markdown",
   "metadata": {},
   "source": [
    "+ fdcId: chuỗi số duy nhất được dùng để dịnh danh các loại món ăn được qui định bởi FoodData Central (FCD)\n",
    "+ ndbNumber: chuỗi số duy nhất được dùng để dịnh danh các loại món ăn được qui định bởi SR Legacy foods, khác với fcdID\n",
    "+ description: mô tả loại món ăn gồm: tên, đặc trưng của món ăn (cách thức nấu, màu sắc, ...)\n",
    "+ dataType: thông tin loại khảo sát tiến hành\n",
    "+ publicationDate: thời gian công bố dữ dữ liệu phân tích  về loại món ăn\n",
    "+ foodCode:  chuỗi số duy nhất được dùng để dịnh danh các loại món ăn được qui định bởi The Food and Nutrient Database for Dietary Studies (FNDDS)\n",
    "+ foodNutrients: kết quả phân tích chi tiết về thành phần dinh dưỡng"
   ]
  },
  {
   "cell_type": "markdown",
   "metadata": {},
   "source": [
    "### Kiểu dữ liệu của các cột"
   ]
  },
  {
   "cell_type": "code",
   "execution_count": 8,
   "metadata": {},
   "outputs": [
    {
     "data": {
      "text/plain": [
       "fdcId                int64\n",
       "description         object\n",
       "dataType            object\n",
       "publicationDate     object\n",
       "foodCode           float64\n",
       "foodNutrients       object\n",
       "ndbNumber          float64\n",
       "dtype: object"
      ]
     },
     "execution_count": 8,
     "metadata": {},
     "output_type": "execute_result"
    }
   ],
   "source": [
    "df.dtypes"
   ]
  },
  {
   "cell_type": "markdown",
   "metadata": {},
   "source": [
    "### Nhận xét về dữ liệu\n",
    "- Trong các thuộc tính, thì chỉ có thuộc tính 'foodNutrients' là có chứa thông tin hữu ích có thể khai thác được\n",
    "- Các thuộc tính còn lại không ảnh hưởng đến thuộc tính 'foodNutrients' ta đang quan tâm nên chúng ta có thể thể bỏ qua các thuộc tính này"
   ]
  },
  {
   "cell_type": "markdown",
   "metadata": {},
   "source": [
    "## Tiền xử lý ( Tách thuộc tính mới từ thuộc tính cũ)\n"
   ]
  },
  {
   "cell_type": "markdown",
   "metadata": {},
   "source": [
    "Chuyển thuộc tính \"foodNutrients\" về các thuộc tính thành phần"
   ]
  },
  {
   "cell_type": "code",
   "execution_count": 9,
   "metadata": {},
   "outputs": [],
   "source": [
    "food_nutrients_dict = {}\n",
    "count = 0\n",
    "keys = []\n",
    "\n",
    "for foodNutrient in df.foodNutrients:\n",
    "    for component in foodNutrient:\n",
    "        nutrient_component = f\"{component['name']} ({component['unitName'].lower()})\"\n",
    "        if nutrient_component not in food_nutrients_dict:\n",
    "            keys.append(nutrient_component)\n",
    "            \n",
    "keys = sorted(keys, reverse = True)\n",
    "for key in keys:\n",
    "    food_nutrients_dict[key] = []"
   ]
  },
  {
   "cell_type": "code",
   "execution_count": 10,
   "metadata": {},
   "outputs": [
    {
     "data": {
      "text/plain": [
       "220"
      ]
     },
     "execution_count": 10,
     "metadata": {},
     "output_type": "execute_result"
    }
   ],
   "source": [
    "len(food_nutrients_dict) # number of new attribute extracted from 'foodNutrients'"
   ]
  },
  {
   "cell_type": "code",
   "execution_count": 11,
   "metadata": {},
   "outputs": [
    {
     "name": "stdout",
     "output_type": "stream",
     "text": [
      "trans-beta-Carotene (ug)\n",
      "trans-Lycopene (ug)\n",
      "cis-beta-Carotene (ug)\n",
      "cis-Lycopene (ug)\n",
      "cis-Lutein/Zeaxanthin (ug)\n",
      "Zinc, Zn (mg)\n",
      "Zeaxanthin (ug)\n",
      "Water (g)\n",
      "Vitamin K (phylloquinone) (ug)\n",
      "Vitamin K (Menaquinone-4) (ug)\n",
      "Vitamin K (Dihydrophylloquinone) (ug)\n",
      "Vitamin E, added (mg)\n",
      "Vitamin E (alpha-tocopherol) (mg)\n",
      "Vitamin D3 (cholecalciferol) (ug)\n",
      "Vitamin D2 (ergocalciferol) (ug)\n",
      "Vitamin D (D2 + D3), International Units (iu)\n",
      "Vitamin D (D2 + D3) (ug)\n",
      "Vitamin C, total ascorbic acid (mg)\n",
      "Vitamin B-6 (mg)\n",
      "Vitamin B-12, added (ug)\n",
      "Vitamin B-12 (ug)\n",
      "Vitamin A, RAE (ug)\n",
      "Vitamin A, IU (iu)\n",
      "Valine (g)\n",
      "Tyrosine (g)\n",
      "Tryptophan (g)\n",
      "Total lipid (fat) (g)\n",
      "Total fat (NLEA) (g)\n",
      "Total dietary fiber (AOAC 2011.25) (g)\n",
      "Tocotrienol, gamma (mg)\n",
      "Tocotrienol, delta (mg)\n",
      "Tocotrienol, beta (mg)\n",
      "Tocotrienol, alpha (mg)\n",
      "Tocopherol, gamma (mg)\n",
      "Tocopherol, delta (mg)\n",
      "Tocopherol, beta (mg)\n",
      "Threonine (g)\n",
      "Thiamin (mg)\n",
      "Theobromine (mg)\n",
      "Sulfur, S (mg)\n",
      "Sugars, total including NLEA (g)\n",
      "Sugars, Total NLEA (g)\n",
      "Sucrose (g)\n",
      "Stigmasterol (mg)\n",
      "Starch (g)\n",
      "Specific Gravity (sp_gr)\n",
      "Sodium, Na (mg)\n",
      "Serine (g)\n",
      "Selenium, Se (ug)\n",
      "Riboflavin (mg)\n",
      "Retinol (ug)\n",
      "Protein (g)\n",
      "Proline (g)\n",
      "Potassium, K (mg)\n",
      "Phytosterols, other (mg)\n",
      "Phytosterols (mg)\n",
      "Phytofluene (ug)\n",
      "Phytoene (ug)\n",
      "Phosphorus, P (mg)\n",
      "Phenylalanine (g)\n",
      "Pantothenic acid (mg)\n",
      "Nitrogen (g)\n",
      "Nickel, Ni (ug)\n",
      "Niacin (mg)\n",
      "Molybdenum, Mo (ug)\n",
      "Methionine (g)\n",
      "Manganese, Mn (mg)\n",
      "Maltose (g)\n",
      "Malic acid (mg)\n",
      "Magnesium, Mg (mg)\n",
      "Lysine (g)\n",
      "Lycopene (ug)\n",
      "Lutein + zeaxanthin (ug)\n",
      "Lutein (ug)\n",
      "Leucine (g)\n",
      "Lactose (g)\n",
      "Isoleucine (g)\n",
      "Iron, Fe (mg)\n",
      "Iodine, I (ug)\n",
      "Hydroxyproline (g)\n",
      "Histidine (g)\n",
      "Glycine (g)\n",
      "Glutamic acid (g)\n",
      "Glucose (dextrose) (g)\n",
      "Galactose (g)\n",
      "Fructose (g)\n",
      "Folic acid (ug)\n",
      "Folate, total (ug)\n",
      "Folate, food (ug)\n",
      "Folate, DFE (ug)\n",
      "Fluoride, F (ug)\n",
      "Fiber, total dietary (g)\n",
      "Fiber, soluble (g)\n",
      "Fiber, insoluble (g)\n",
      "Fatty acids, total trans-polyenoic (g)\n",
      "Fatty acids, total trans-monoenoic (g)\n",
      "Fatty acids, total trans-dienoic (g)\n",
      "Fatty acids, total trans (g)\n",
      "Fatty acids, total saturated (g)\n",
      "Fatty acids, total polyunsaturated (g)\n",
      "Fatty acids, total monounsaturated (g)\n",
      "Energy (kj)\n",
      "Energy (kcal)\n",
      "Energy (Atwater Specific Factors) (kcal)\n",
      "Energy (Atwater General Factors) (kcal)\n",
      "Delta-5-avenasterol (mg)\n",
      "Cystine (g)\n",
      "Cysteine (g)\n",
      "Cryptoxanthin, beta (ug)\n",
      "Cryptoxanthin, alpha (ug)\n",
      "Copper, Cu (mg)\n",
      "Cobalt, Co (ug)\n",
      "Citric acid (mg)\n",
      "Choline, total (mg)\n",
      "Choline, from sphingomyelin (mg)\n",
      "Choline, from phosphotidyl choline (mg)\n",
      "Choline, from phosphocholine (mg)\n",
      "Choline, from glycerophosphocholine (mg)\n",
      "Choline, free (mg)\n",
      "Cholesterol (mg)\n",
      "Carotene, beta (ug)\n",
      "Carotene, alpha (ug)\n",
      "Carbohydrate, by summation (g)\n",
      "Carbohydrate, by difference (g)\n",
      "Campesterol (mg)\n",
      "Campestanol (mg)\n",
      "Calcium, Ca (mg)\n",
      "Caffeine (mg)\n",
      "Brassicasterol (mg)\n",
      "Boron, B (ug)\n",
      "Biotin (ug)\n",
      "Betaine (mg)\n",
      "Beta-sitosterol (mg)\n",
      "Beta-sitostanol (mg)\n",
      "Aspartic acid (g)\n",
      "Ash (g)\n",
      "Arginine (g)\n",
      "Alcohol, ethyl (g)\n",
      "Alanine (g)\n",
      "9:0 (g)\n",
      "8:0 (g)\n",
      "7:0 (g)\n",
      "6:0 (g)\n",
      "5:0 (g)\n",
      "5-methyl tetrahydrofolate (5-MTHF) (ug)\n",
      "5-Formyltetrahydrofolic acid (5-HCOH4 (ug)\n",
      "4:0 (g)\n",
      "25-hydroxycholecalciferol (ug)\n",
      "24:1 c (g)\n",
      "24:0 (g)\n",
      "23:0 (g)\n",
      "22:6 n-3 (DHA) (g)\n",
      "22:6 c (g)\n",
      "22:5 n-3 (DPA) (g)\n",
      "22:5 c (g)\n",
      "22:4 (g)\n",
      "22:3 (g)\n",
      "22:2 (g)\n",
      "22:1 t (g)\n",
      "22:1 n-9 (g)\n",
      "22:1 n-11 (g)\n",
      "22:1 c (g)\n",
      "22:1 (g)\n",
      "22:0 (g)\n",
      "21:5 (g)\n",
      "21:0 (g)\n",
      "20:5 n-3 (EPA) (g)\n",
      "20:5 c (g)\n",
      "20:4 n-6 (g)\n",
      "20:4 c (g)\n",
      "20:4 (g)\n",
      "20:3 n-9 (g)\n",
      "20:3 n-6 (g)\n",
      "20:3 n-3 (g)\n",
      "20:3 c (g)\n",
      "20:3 (g)\n",
      "20:2 n-6 c,c (g)\n",
      "20:2 c (g)\n",
      "20:1 t (g)\n",
      "20:1 c (g)\n",
      "20:1 (g)\n",
      "20:0 (g)\n",
      "18:4 (g)\n",
      "18:3i (g)\n",
      "18:3 t (g)\n",
      "18:3 n-6 c,c,c (g)\n",
      "18:3 n-3 c,c,c (ALA) (g)\n",
      "18:3 c (g)\n",
      "18:3 (g)\n",
      "18:2 t,t (g)\n",
      "18:2 t not further defined (g)\n",
      "18:2 n-6 c,c (g)\n",
      "18:2 i (g)\n",
      "18:2 c (g)\n",
      "18:2 CLAs (g)\n",
      "18:2 (g)\n",
      "18:1-11 t (18:1t n-7) (g)\n",
      "18:1 t (g)\n",
      "18:1 c (g)\n",
      "18:1 (g)\n",
      "18:0 (g)\n",
      "17:1 c (g)\n",
      "17:1 (g)\n",
      "17:0 (g)\n",
      "16:1 t (g)\n",
      "16:1 c (g)\n",
      "16:1 (g)\n",
      "16:0 (g)\n",
      "15:1 (g)\n",
      "15:0 (g)\n",
      "14:1 t (g)\n",
      "14:1 c (g)\n",
      "14:1 (g)\n",
      "14:0 (g)\n",
      "13:0 (g)\n",
      "12:1 (g)\n",
      "12:0 (g)\n",
      "11:0 (g)\n",
      "10:0 (g)\n",
      "10-Formyl folic acid (10HCOFA) (ug)\n"
     ]
    }
   ],
   "source": [
    "for col in food_nutrients_dict:\n",
    "    print(col)"
   ]
  },
  {
   "cell_type": "code",
   "execution_count": 12,
   "metadata": {},
   "outputs": [],
   "source": [
    "for foodNutrient in df.foodNutrients:\n",
    "    sub_keys = []\n",
    "    for component in foodNutrient:\n",
    "        nutrient_component = f\"{component['name']} ({component['unitName'].lower()})\"\n",
    "        amount = component['amount']\n",
    "        sub_keys.append(nutrient_component)\n",
    "        food_nutrients_dict[nutrient_component].append(amount)\n",
    "    for key in food_nutrients_dict:\n",
    "        if key not in sub_keys:\n",
    "            food_nutrients_dict[key].append(np.NaN)"
   ]
  },
  {
   "cell_type": "code",
   "execution_count": 13,
   "metadata": {},
   "outputs": [],
   "source": [
    "nutrients_df = pd.DataFrame(food_nutrients_dict, index = df['fdcId'])"
   ]
  },
  {
   "cell_type": "code",
   "execution_count": 14,
   "metadata": {},
   "outputs": [
    {
     "data": {
      "text/html": [
       "<div>\n",
       "<style scoped>\n",
       "    .dataframe tbody tr th:only-of-type {\n",
       "        vertical-align: middle;\n",
       "    }\n",
       "\n",
       "    .dataframe tbody tr th {\n",
       "        vertical-align: top;\n",
       "    }\n",
       "\n",
       "    .dataframe thead th {\n",
       "        text-align: right;\n",
       "    }\n",
       "</style>\n",
       "<table border=\"1\" class=\"dataframe\">\n",
       "  <thead>\n",
       "    <tr style=\"text-align: right;\">\n",
       "      <th></th>\n",
       "      <th>trans-beta-Carotene (ug)</th>\n",
       "      <th>trans-Lycopene (ug)</th>\n",
       "      <th>cis-beta-Carotene (ug)</th>\n",
       "      <th>cis-Lycopene (ug)</th>\n",
       "      <th>cis-Lutein/Zeaxanthin (ug)</th>\n",
       "      <th>Zinc, Zn (mg)</th>\n",
       "      <th>Zeaxanthin (ug)</th>\n",
       "      <th>Water (g)</th>\n",
       "      <th>Vitamin K (phylloquinone) (ug)</th>\n",
       "      <th>Vitamin K (Menaquinone-4) (ug)</th>\n",
       "      <th>...</th>\n",
       "      <th>14:1 t (g)</th>\n",
       "      <th>14:1 c (g)</th>\n",
       "      <th>14:1 (g)</th>\n",
       "      <th>14:0 (g)</th>\n",
       "      <th>13:0 (g)</th>\n",
       "      <th>12:1 (g)</th>\n",
       "      <th>12:0 (g)</th>\n",
       "      <th>11:0 (g)</th>\n",
       "      <th>10:0 (g)</th>\n",
       "      <th>10-Formyl folic acid (10HCOFA) (ug)</th>\n",
       "    </tr>\n",
       "    <tr>\n",
       "      <th>fdcId</th>\n",
       "      <th></th>\n",
       "      <th></th>\n",
       "      <th></th>\n",
       "      <th></th>\n",
       "      <th></th>\n",
       "      <th></th>\n",
       "      <th></th>\n",
       "      <th></th>\n",
       "      <th></th>\n",
       "      <th></th>\n",
       "      <th></th>\n",
       "      <th></th>\n",
       "      <th></th>\n",
       "      <th></th>\n",
       "      <th></th>\n",
       "      <th></th>\n",
       "      <th></th>\n",
       "      <th></th>\n",
       "      <th></th>\n",
       "      <th></th>\n",
       "      <th></th>\n",
       "    </tr>\n",
       "  </thead>\n",
       "  <tbody>\n",
       "    <tr>\n",
       "      <th>1104067</th>\n",
       "      <td>NaN</td>\n",
       "      <td>NaN</td>\n",
       "      <td>NaN</td>\n",
       "      <td>NaN</td>\n",
       "      <td>NaN</td>\n",
       "      <td>0.99</td>\n",
       "      <td>NaN</td>\n",
       "      <td>6.10</td>\n",
       "      <td>6.2</td>\n",
       "      <td>NaN</td>\n",
       "      <td>...</td>\n",
       "      <td>NaN</td>\n",
       "      <td>NaN</td>\n",
       "      <td>NaN</td>\n",
       "      <td>1.030</td>\n",
       "      <td>NaN</td>\n",
       "      <td>NaN</td>\n",
       "      <td>1.440</td>\n",
       "      <td>NaN</td>\n",
       "      <td>0.329</td>\n",
       "      <td>NaN</td>\n",
       "    </tr>\n",
       "    <tr>\n",
       "      <th>1104086</th>\n",
       "      <td>NaN</td>\n",
       "      <td>NaN</td>\n",
       "      <td>NaN</td>\n",
       "      <td>NaN</td>\n",
       "      <td>NaN</td>\n",
       "      <td>0.55</td>\n",
       "      <td>NaN</td>\n",
       "      <td>5.80</td>\n",
       "      <td>2.9</td>\n",
       "      <td>NaN</td>\n",
       "      <td>...</td>\n",
       "      <td>NaN</td>\n",
       "      <td>NaN</td>\n",
       "      <td>NaN</td>\n",
       "      <td>0.295</td>\n",
       "      <td>NaN</td>\n",
       "      <td>NaN</td>\n",
       "      <td>0.093</td>\n",
       "      <td>NaN</td>\n",
       "      <td>0.085</td>\n",
       "      <td>NaN</td>\n",
       "    </tr>\n",
       "    <tr>\n",
       "      <th>1104087</th>\n",
       "      <td>NaN</td>\n",
       "      <td>NaN</td>\n",
       "      <td>NaN</td>\n",
       "      <td>NaN</td>\n",
       "      <td>NaN</td>\n",
       "      <td>1.83</td>\n",
       "      <td>NaN</td>\n",
       "      <td>0.18</td>\n",
       "      <td>5.8</td>\n",
       "      <td>NaN</td>\n",
       "      <td>...</td>\n",
       "      <td>NaN</td>\n",
       "      <td>NaN</td>\n",
       "      <td>NaN</td>\n",
       "      <td>1.650</td>\n",
       "      <td>NaN</td>\n",
       "      <td>NaN</td>\n",
       "      <td>2.520</td>\n",
       "      <td>NaN</td>\n",
       "      <td>0.365</td>\n",
       "      <td>NaN</td>\n",
       "    </tr>\n",
       "    <tr>\n",
       "      <th>1099098</th>\n",
       "      <td>NaN</td>\n",
       "      <td>NaN</td>\n",
       "      <td>NaN</td>\n",
       "      <td>NaN</td>\n",
       "      <td>NaN</td>\n",
       "      <td>0.98</td>\n",
       "      <td>NaN</td>\n",
       "      <td>65.10</td>\n",
       "      <td>31.7</td>\n",
       "      <td>NaN</td>\n",
       "      <td>...</td>\n",
       "      <td>NaN</td>\n",
       "      <td>NaN</td>\n",
       "      <td>NaN</td>\n",
       "      <td>0.028</td>\n",
       "      <td>NaN</td>\n",
       "      <td>NaN</td>\n",
       "      <td>0.000</td>\n",
       "      <td>NaN</td>\n",
       "      <td>0.000</td>\n",
       "      <td>NaN</td>\n",
       "    </tr>\n",
       "    <tr>\n",
       "      <th>1099099</th>\n",
       "      <td>NaN</td>\n",
       "      <td>NaN</td>\n",
       "      <td>NaN</td>\n",
       "      <td>NaN</td>\n",
       "      <td>NaN</td>\n",
       "      <td>1.06</td>\n",
       "      <td>NaN</td>\n",
       "      <td>52.40</td>\n",
       "      <td>32.0</td>\n",
       "      <td>NaN</td>\n",
       "      <td>...</td>\n",
       "      <td>NaN</td>\n",
       "      <td>NaN</td>\n",
       "      <td>NaN</td>\n",
       "      <td>0.024</td>\n",
       "      <td>NaN</td>\n",
       "      <td>NaN</td>\n",
       "      <td>0.000</td>\n",
       "      <td>NaN</td>\n",
       "      <td>0.001</td>\n",
       "      <td>NaN</td>\n",
       "    </tr>\n",
       "  </tbody>\n",
       "</table>\n",
       "<p>5 rows × 220 columns</p>\n",
       "</div>"
      ],
      "text/plain": [
       "         trans-beta-Carotene (ug)  trans-Lycopene (ug)  \\\n",
       "fdcId                                                    \n",
       "1104067                       NaN                  NaN   \n",
       "1104086                       NaN                  NaN   \n",
       "1104087                       NaN                  NaN   \n",
       "1099098                       NaN                  NaN   \n",
       "1099099                       NaN                  NaN   \n",
       "\n",
       "         cis-beta-Carotene (ug)  cis-Lycopene (ug)  \\\n",
       "fdcId                                                \n",
       "1104067                     NaN                NaN   \n",
       "1104086                     NaN                NaN   \n",
       "1104087                     NaN                NaN   \n",
       "1099098                     NaN                NaN   \n",
       "1099099                     NaN                NaN   \n",
       "\n",
       "         cis-Lutein/Zeaxanthin (ug)  Zinc, Zn (mg)  Zeaxanthin (ug)  \\\n",
       "fdcId                                                                 \n",
       "1104067                         NaN           0.99              NaN   \n",
       "1104086                         NaN           0.55              NaN   \n",
       "1104087                         NaN           1.83              NaN   \n",
       "1099098                         NaN           0.98              NaN   \n",
       "1099099                         NaN           1.06              NaN   \n",
       "\n",
       "         Water (g)  Vitamin K (phylloquinone) (ug)  \\\n",
       "fdcId                                                \n",
       "1104067       6.10                             6.2   \n",
       "1104086       5.80                             2.9   \n",
       "1104087       0.18                             5.8   \n",
       "1099098      65.10                            31.7   \n",
       "1099099      52.40                            32.0   \n",
       "\n",
       "         Vitamin K (Menaquinone-4) (ug)  ...  14:1 t (g)  14:1 c (g)  \\\n",
       "fdcId                                    ...                           \n",
       "1104067                             NaN  ...         NaN         NaN   \n",
       "1104086                             NaN  ...         NaN         NaN   \n",
       "1104087                             NaN  ...         NaN         NaN   \n",
       "1099098                             NaN  ...         NaN         NaN   \n",
       "1099099                             NaN  ...         NaN         NaN   \n",
       "\n",
       "         14:1 (g)  14:0 (g)  13:0 (g)  12:1 (g)  12:0 (g)  11:0 (g)  10:0 (g)  \\\n",
       "fdcId                                                                           \n",
       "1104067       NaN     1.030       NaN       NaN     1.440       NaN     0.329   \n",
       "1104086       NaN     0.295       NaN       NaN     0.093       NaN     0.085   \n",
       "1104087       NaN     1.650       NaN       NaN     2.520       NaN     0.365   \n",
       "1099098       NaN     0.028       NaN       NaN     0.000       NaN     0.000   \n",
       "1099099       NaN     0.024       NaN       NaN     0.000       NaN     0.001   \n",
       "\n",
       "         10-Formyl folic acid (10HCOFA) (ug)  \n",
       "fdcId                                         \n",
       "1104067                                  NaN  \n",
       "1104086                                  NaN  \n",
       "1104087                                  NaN  \n",
       "1099098                                  NaN  \n",
       "1099099                                  NaN  \n",
       "\n",
       "[5 rows x 220 columns]"
      ]
     },
     "execution_count": 14,
     "metadata": {},
     "output_type": "execute_result"
    }
   ],
   "source": [
    "nutrients_df.head()"
   ]
  },
  {
   "cell_type": "markdown",
   "metadata": {},
   "source": [
    "## Câu hỏi đặt ra"
   ]
  },
  {
   "cell_type": "markdown",
   "metadata": {},
   "source": [
    "### Đâu là công thức dùng để tính năng lượng từ các thành phần dinh dưỡng cụ thể?\n",
    "Trước tiên ta xác định:\n",
    "- Input được xác định là các cột thành phần dinh dưỡng\n",
    "- Output được xác định là cột năng lượng\n",
    "- Dễ dàng nhận ra đây là bài toán hồi quy\n",
    "- Như vậy năng lượng sẽ được tính thông qua một công thức với các hạng tử là các thành phần dinh dưỡng cụ thể\n",
    "\n",
    "Việc tìm ra câu trả lời cho câu hỏi này có ý nghĩa:\n",
    "- Từ việc biết được mức năng lượng mà mỗi loại thực phẩm mang lại, con người ta có thể chủ động trong việc điều phối khẩu phần ăn hằng ngày sao cho cân bằng giữa mức năng lượng cần nạp vào và sức khỏe của họ, đặc biệt trong bối cảnh con người ngày càng chú trọng hơn vào sức khỏe của mình. Thí dụ như một người trưởng thành trung bình cần tối thiểu 1800 calo mỗi ngày, như vậy chúng ta có thể dựa vào mức năng lượng của từng thành phần dinh dưỡng trong từng món ăn để căn chỉnh sao cho thật hợp lí\n",
    "- Việc dự đoán này chỉ mang tính chất tương đối, giúp người dân có cái nhìn tiệm cận hơn về mức năng lượng thực phẩm họ ăn mỗi ngày, từ đó điều phối sao cho hợp lí\n",
    "\n",
    "Nguồn cảm hứng của câu hỏi:\n",
    "- Phải nói rằng nguồn cảm hứng của câu hỏi xuất phát từ nguồn cảm hứng chọn chủ để của nhóm em, nhóm em nhận thấy rằng tỉ lệ béo phì ở dân số các quốc gia mỗi ngày một tăng, họ luôn đặt ra câu hỏi tại sao tôi ăn ít nhưng vẫn mập. Tuy nhiên họ không biết rằng họ ăn ít về khối lương nhưng lượng calo trong thực phẩm họ ăn không hề thấp, do đó nhóm em đã đặt ra câu hỏi là đâu là công thức tính năng lượng từ các thành phân dinh dưỡng của món ăn, nhằm giúp mọi người hiểu được thực phẩm họ ăn chứa nhiều năng lượng tới đâu để có thể điều chỉnh chế độ ăn cân bằng và hợp lý"
   ]
  },
  {
   "cell_type": "markdown",
   "metadata": {},
   "source": [
    "## Khám phá và tiền xử lý dữ liệu (để biết cách tách các tập)"
   ]
  },
  {
   "cell_type": "code",
   "execution_count": 15,
   "metadata": {},
   "outputs": [
    {
     "data": {
      "text/plain": [
       "dtype('float64')"
      ]
     },
     "execution_count": 15,
     "metadata": {},
     "output_type": "execute_result"
    }
   ],
   "source": [
    "nutrients_df['Energy (kcal)'].dtype"
   ]
  },
  {
   "cell_type": "code",
   "execution_count": 16,
   "metadata": {},
   "outputs": [
    {
     "data": {
      "text/plain": [
       "28"
      ]
     },
     "execution_count": 16,
     "metadata": {},
     "output_type": "execute_result"
    }
   ],
   "source": [
    "nutrients_df['Energy (kcal)'].isna().sum()"
   ]
  },
  {
   "cell_type": "code",
   "execution_count": 17,
   "metadata": {},
   "outputs": [
    {
     "data": {
      "text/plain": [
       "0"
      ]
     },
     "execution_count": 17,
     "metadata": {},
     "output_type": "execute_result"
    }
   ],
   "source": [
    "nutrients_df.dropna(axis=0, subset=['Energy (kcal)'], inplace=True)\n",
    "nutrients_df['Energy (kcal)'].isna().sum()"
   ]
  },
  {
   "cell_type": "markdown",
   "metadata": {},
   "source": [
    "## Tiền xử lý (tách các tập)"
   ]
  },
  {
   "cell_type": "code",
   "execution_count": 18,
   "metadata": {},
   "outputs": [],
   "source": [
    "# Split dataset into 3 sub dataset: train, validation and test with ratio accordingly is 60%, 20% and 20%\n",
    "X = nutrients_df.drop('Energy (kcal)', axis=1)\n",
    "y = nutrients_df['Energy (kcal)']\n",
    "\n",
    "X_train_df, X_test, y_train_sr, y_test  = train_test_split(X, y, test_size=0.2, random_state=0)\n",
    "X_train, X_val, y_train, y_val = train_test_split(X_train_df, y_train_sr, test_size=0.25, random_state=0) # 0.25 x 0.8 = 0.2"
   ]
  },
  {
   "cell_type": "markdown",
   "metadata": {},
   "source": [
    "## Khám phá dữ liệu (tập huấn luyện)"
   ]
  },
  {
   "cell_type": "code",
   "execution_count": 19,
   "metadata": {},
   "outputs": [
    {
     "name": "stdout",
     "output_type": "stream",
     "text": [
      "float64\n",
      "float64\n",
      "float64\n",
      "float64\n",
      "float64\n",
      "float64\n",
      "float64\n",
      "float64\n",
      "float64\n",
      "float64\n",
      "float64\n",
      "float64\n",
      "float64\n",
      "float64\n",
      "float64\n",
      "float64\n",
      "float64\n",
      "float64\n",
      "float64\n",
      "float64\n",
      "float64\n",
      "float64\n",
      "float64\n",
      "float64\n",
      "float64\n",
      "float64\n",
      "float64\n",
      "float64\n",
      "float64\n",
      "float64\n",
      "float64\n",
      "float64\n",
      "float64\n",
      "float64\n",
      "float64\n",
      "float64\n",
      "float64\n",
      "float64\n",
      "float64\n",
      "float64\n",
      "float64\n",
      "float64\n",
      "float64\n",
      "float64\n",
      "float64\n",
      "float64\n",
      "float64\n",
      "float64\n",
      "float64\n",
      "float64\n",
      "float64\n",
      "float64\n",
      "float64\n",
      "float64\n",
      "float64\n",
      "float64\n",
      "float64\n",
      "float64\n",
      "float64\n",
      "float64\n",
      "float64\n",
      "float64\n",
      "float64\n",
      "float64\n",
      "float64\n",
      "float64\n",
      "float64\n",
      "float64\n",
      "float64\n",
      "float64\n",
      "float64\n",
      "float64\n",
      "float64\n",
      "float64\n",
      "float64\n",
      "float64\n",
      "float64\n",
      "float64\n",
      "float64\n",
      "float64\n",
      "float64\n",
      "float64\n",
      "float64\n",
      "float64\n",
      "float64\n",
      "float64\n",
      "float64\n",
      "float64\n",
      "float64\n",
      "float64\n",
      "float64\n",
      "float64\n",
      "float64\n",
      "float64\n",
      "float64\n",
      "float64\n",
      "float64\n",
      "float64\n",
      "float64\n",
      "float64\n",
      "float64\n",
      "float64\n",
      "float64\n",
      "float64\n",
      "float64\n",
      "float64\n",
      "float64\n",
      "float64\n",
      "float64\n",
      "float64\n",
      "float64\n",
      "float64\n",
      "float64\n",
      "float64\n",
      "float64\n",
      "float64\n",
      "float64\n",
      "float64\n",
      "float64\n",
      "float64\n",
      "float64\n",
      "float64\n",
      "float64\n",
      "float64\n",
      "float64\n",
      "float64\n",
      "float64\n",
      "float64\n",
      "float64\n",
      "float64\n",
      "float64\n",
      "float64\n",
      "float64\n",
      "float64\n",
      "float64\n",
      "float64\n",
      "float64\n",
      "float64\n",
      "float64\n",
      "float64\n",
      "float64\n",
      "float64\n",
      "float64\n",
      "float64\n",
      "float64\n",
      "float64\n",
      "float64\n",
      "float64\n",
      "float64\n",
      "float64\n",
      "float64\n",
      "float64\n",
      "float64\n",
      "float64\n",
      "float64\n",
      "float64\n",
      "float64\n",
      "float64\n",
      "float64\n",
      "float64\n",
      "float64\n",
      "float64\n",
      "float64\n",
      "float64\n",
      "float64\n",
      "float64\n",
      "float64\n",
      "float64\n",
      "float64\n",
      "float64\n",
      "float64\n",
      "float64\n",
      "float64\n",
      "float64\n",
      "float64\n",
      "float64\n",
      "float64\n",
      "float64\n",
      "float64\n",
      "float64\n",
      "float64\n",
      "float64\n",
      "float64\n",
      "float64\n",
      "float64\n",
      "float64\n",
      "float64\n",
      "float64\n",
      "float64\n",
      "float64\n",
      "float64\n",
      "float64\n",
      "float64\n",
      "float64\n",
      "float64\n",
      "float64\n",
      "float64\n",
      "float64\n",
      "float64\n",
      "float64\n",
      "float64\n",
      "float64\n",
      "float64\n",
      "float64\n",
      "float64\n",
      "float64\n",
      "float64\n",
      "float64\n",
      "float64\n",
      "float64\n",
      "float64\n",
      "float64\n",
      "float64\n",
      "float64\n",
      "float64\n",
      "float64\n",
      "float64\n",
      "float64\n",
      "float64\n"
     ]
    }
   ],
   "source": [
    "for dtype in X_train.dtypes:\n",
    "    print(dtype)"
   ]
  },
  {
   "cell_type": "code",
   "execution_count": 20,
   "metadata": {},
   "outputs": [
    {
     "data": {
      "text/html": [
       "<div>\n",
       "<style scoped>\n",
       "    .dataframe tbody tr th:only-of-type {\n",
       "        vertical-align: middle;\n",
       "    }\n",
       "\n",
       "    .dataframe tbody tr th {\n",
       "        vertical-align: top;\n",
       "    }\n",
       "\n",
       "    .dataframe thead th {\n",
       "        text-align: right;\n",
       "    }\n",
       "</style>\n",
       "<table border=\"1\" class=\"dataframe\">\n",
       "  <thead>\n",
       "    <tr style=\"text-align: right;\">\n",
       "      <th></th>\n",
       "      <th>trans-beta-Carotene (ug)</th>\n",
       "      <th>trans-Lycopene (ug)</th>\n",
       "      <th>cis-beta-Carotene (ug)</th>\n",
       "      <th>cis-Lycopene (ug)</th>\n",
       "      <th>cis-Lutein/Zeaxanthin (ug)</th>\n",
       "      <th>Zinc, Zn (mg)</th>\n",
       "      <th>Zeaxanthin (ug)</th>\n",
       "      <th>Water (g)</th>\n",
       "      <th>Vitamin K (phylloquinone) (ug)</th>\n",
       "      <th>Vitamin K (Menaquinone-4) (ug)</th>\n",
       "      <th>...</th>\n",
       "      <th>14:1 t (g)</th>\n",
       "      <th>14:1 c (g)</th>\n",
       "      <th>14:1 (g)</th>\n",
       "      <th>14:0 (g)</th>\n",
       "      <th>13:0 (g)</th>\n",
       "      <th>12:1 (g)</th>\n",
       "      <th>12:0 (g)</th>\n",
       "      <th>11:0 (g)</th>\n",
       "      <th>10:0 (g)</th>\n",
       "      <th>10-Formyl folic acid (10HCOFA) (ug)</th>\n",
       "    </tr>\n",
       "  </thead>\n",
       "  <tbody>\n",
       "    <tr>\n",
       "      <th>missing_ratio</th>\n",
       "      <td>99.9</td>\n",
       "      <td>99.9</td>\n",
       "      <td>99.9</td>\n",
       "      <td>99.9</td>\n",
       "      <td>99.9</td>\n",
       "      <td>2.4</td>\n",
       "      <td>99.9</td>\n",
       "      <td>0.0</td>\n",
       "      <td>18.4</td>\n",
       "      <td>96.5</td>\n",
       "      <td>...</td>\n",
       "      <td>99.900</td>\n",
       "      <td>99.600</td>\n",
       "      <td>82.100</td>\n",
       "      <td>7.2</td>\n",
       "      <td>98.100</td>\n",
       "      <td>99.900</td>\n",
       "      <td>9.3</td>\n",
       "      <td>99.700</td>\n",
       "      <td>10.50</td>\n",
       "      <td>100.0</td>\n",
       "    </tr>\n",
       "    <tr>\n",
       "      <th>min</th>\n",
       "      <td>0.0</td>\n",
       "      <td>0.0</td>\n",
       "      <td>0.0</td>\n",
       "      <td>0.0</td>\n",
       "      <td>0.0</td>\n",
       "      <td>0.0</td>\n",
       "      <td>0.0</td>\n",
       "      <td>0.0</td>\n",
       "      <td>0.0</td>\n",
       "      <td>0.0</td>\n",
       "      <td>...</td>\n",
       "      <td>0.000</td>\n",
       "      <td>0.000</td>\n",
       "      <td>0.000</td>\n",
       "      <td>0.0</td>\n",
       "      <td>0.000</td>\n",
       "      <td>0.000</td>\n",
       "      <td>0.0</td>\n",
       "      <td>0.000</td>\n",
       "      <td>0.00</td>\n",
       "      <td>NaN</td>\n",
       "    </tr>\n",
       "    <tr>\n",
       "      <th>lower_quartile</th>\n",
       "      <td>1.0</td>\n",
       "      <td>0.0</td>\n",
       "      <td>0.0</td>\n",
       "      <td>0.0</td>\n",
       "      <td>0.0</td>\n",
       "      <td>0.4</td>\n",
       "      <td>0.5</td>\n",
       "      <td>41.9</td>\n",
       "      <td>0.6</td>\n",
       "      <td>0.0</td>\n",
       "      <td>...</td>\n",
       "      <td>0.000</td>\n",
       "      <td>0.000</td>\n",
       "      <td>0.000</td>\n",
       "      <td>0.0</td>\n",
       "      <td>0.000</td>\n",
       "      <td>0.000</td>\n",
       "      <td>0.0</td>\n",
       "      <td>0.000</td>\n",
       "      <td>0.00</td>\n",
       "      <td>NaN</td>\n",
       "    </tr>\n",
       "    <tr>\n",
       "      <th>median</th>\n",
       "      <td>5.0</td>\n",
       "      <td>0.0</td>\n",
       "      <td>1.0</td>\n",
       "      <td>0.0</td>\n",
       "      <td>0.0</td>\n",
       "      <td>0.9</td>\n",
       "      <td>1.0</td>\n",
       "      <td>64.4</td>\n",
       "      <td>2.2</td>\n",
       "      <td>0.1</td>\n",
       "      <td>...</td>\n",
       "      <td>0.000</td>\n",
       "      <td>0.000</td>\n",
       "      <td>0.000</td>\n",
       "      <td>0.1</td>\n",
       "      <td>0.000</td>\n",
       "      <td>0.000</td>\n",
       "      <td>0.0</td>\n",
       "      <td>0.000</td>\n",
       "      <td>0.00</td>\n",
       "      <td>NaN</td>\n",
       "    </tr>\n",
       "    <tr>\n",
       "      <th>upper_quartile</th>\n",
       "      <td>7.0</td>\n",
       "      <td>0.0</td>\n",
       "      <td>1.0</td>\n",
       "      <td>0.0</td>\n",
       "      <td>0.0</td>\n",
       "      <td>2.3</td>\n",
       "      <td>273.5</td>\n",
       "      <td>79.9</td>\n",
       "      <td>7.1</td>\n",
       "      <td>3.0</td>\n",
       "      <td>...</td>\n",
       "      <td>0.000</td>\n",
       "      <td>0.000</td>\n",
       "      <td>0.000</td>\n",
       "      <td>0.3</td>\n",
       "      <td>0.000</td>\n",
       "      <td>0.000</td>\n",
       "      <td>0.0</td>\n",
       "      <td>0.000</td>\n",
       "      <td>0.00</td>\n",
       "      <td>NaN</td>\n",
       "    </tr>\n",
       "    <tr>\n",
       "      <th>max</th>\n",
       "      <td>9.0</td>\n",
       "      <td>2.0</td>\n",
       "      <td>2.0</td>\n",
       "      <td>0.0</td>\n",
       "      <td>121.0</td>\n",
       "      <td>98.9</td>\n",
       "      <td>546.0</td>\n",
       "      <td>100.0</td>\n",
       "      <td>1640.0</td>\n",
       "      <td>33.2</td>\n",
       "      <td>...</td>\n",
       "      <td>0.005</td>\n",
       "      <td>0.299</td>\n",
       "      <td>0.737</td>\n",
       "      <td>82.6</td>\n",
       "      <td>0.025</td>\n",
       "      <td>0.001</td>\n",
       "      <td>53.4</td>\n",
       "      <td>0.013</td>\n",
       "      <td>5.59</td>\n",
       "      <td>NaN</td>\n",
       "    </tr>\n",
       "  </tbody>\n",
       "</table>\n",
       "<p>6 rows × 219 columns</p>\n",
       "</div>"
      ],
      "text/plain": [
       "                trans-beta-Carotene (ug)  trans-Lycopene (ug)  \\\n",
       "missing_ratio                       99.9                 99.9   \n",
       "min                                  0.0                  0.0   \n",
       "lower_quartile                       1.0                  0.0   \n",
       "median                               5.0                  0.0   \n",
       "upper_quartile                       7.0                  0.0   \n",
       "max                                  9.0                  2.0   \n",
       "\n",
       "                cis-beta-Carotene (ug)  cis-Lycopene (ug)  \\\n",
       "missing_ratio                     99.9               99.9   \n",
       "min                                0.0                0.0   \n",
       "lower_quartile                     0.0                0.0   \n",
       "median                             1.0                0.0   \n",
       "upper_quartile                     1.0                0.0   \n",
       "max                                2.0                0.0   \n",
       "\n",
       "                cis-Lutein/Zeaxanthin (ug)  Zinc, Zn (mg)  Zeaxanthin (ug)  \\\n",
       "missing_ratio                         99.9            2.4             99.9   \n",
       "min                                    0.0            0.0              0.0   \n",
       "lower_quartile                         0.0            0.4              0.5   \n",
       "median                                 0.0            0.9              1.0   \n",
       "upper_quartile                         0.0            2.3            273.5   \n",
       "max                                  121.0           98.9            546.0   \n",
       "\n",
       "                Water (g)  Vitamin K (phylloquinone) (ug)  \\\n",
       "missing_ratio         0.0                            18.4   \n",
       "min                   0.0                             0.0   \n",
       "lower_quartile       41.9                             0.6   \n",
       "median               64.4                             2.2   \n",
       "upper_quartile       79.9                             7.1   \n",
       "max                 100.0                          1640.0   \n",
       "\n",
       "                Vitamin K (Menaquinone-4) (ug)  ...  14:1 t (g)  14:1 c (g)  \\\n",
       "missing_ratio                             96.5  ...      99.900      99.600   \n",
       "min                                        0.0  ...       0.000       0.000   \n",
       "lower_quartile                             0.0  ...       0.000       0.000   \n",
       "median                                     0.1  ...       0.000       0.000   \n",
       "upper_quartile                             3.0  ...       0.000       0.000   \n",
       "max                                       33.2  ...       0.005       0.299   \n",
       "\n",
       "                14:1 (g)  14:0 (g)  13:0 (g)  12:1 (g)  12:0 (g)  11:0 (g)  \\\n",
       "missing_ratio     82.100       7.2    98.100    99.900       9.3    99.700   \n",
       "min                0.000       0.0     0.000     0.000       0.0     0.000   \n",
       "lower_quartile     0.000       0.0     0.000     0.000       0.0     0.000   \n",
       "median             0.000       0.1     0.000     0.000       0.0     0.000   \n",
       "upper_quartile     0.000       0.3     0.000     0.000       0.0     0.000   \n",
       "max                0.737      82.6     0.025     0.001      53.4     0.013   \n",
       "\n",
       "                10:0 (g)  10-Formyl folic acid (10HCOFA) (ug)  \n",
       "missing_ratio      10.50                                100.0  \n",
       "min                 0.00                                  NaN  \n",
       "lower_quartile      0.00                                  NaN  \n",
       "median              0.00                                  NaN  \n",
       "upper_quartile      0.00                                  NaN  \n",
       "max                 5.59                                  NaN  \n",
       "\n",
       "[6 rows x 219 columns]"
      ]
     },
     "execution_count": 20,
     "metadata": {},
     "output_type": "execute_result"
    }
   ],
   "source": [
    "def missing_ratio(df):\n",
    "    return (df.isna().mean() * 100).round(1)\n",
    "def lower_quartile(df):\n",
    "    return df.quantile(0.25).round(1)\n",
    "def median(df):\n",
    "    return df.quantile(0.5).round(1)\n",
    "def upper_quartile(df):\n",
    "    return df.quantile(0.75).round(1)\n",
    "X_train.agg([missing_ratio, 'min', lower_quartile, median, upper_quartile, 'max'])"
   ]
  },
  {
   "cell_type": "markdown",
   "metadata": {},
   "source": [
    "### Nhận xét về tập dữ liệu\n",
    "- Dữ liệu có quá nhiều thuộc tính (219 thuộc tính)\n",
    "- Một số thuộc tính có tỉ lệ thiếu cao và một số thông số không hợp lý"
   ]
  },
  {
   "cell_type": "markdown",
   "metadata": {},
   "source": [
    "## Tiền xử lý tập huấn luyện"
   ]
  },
  {
   "cell_type": "markdown",
   "metadata": {},
   "source": [
    "Link Data Document: https://fdc.nal.usda.gov/docs/Foundation_Foods_Documentation_Oct2020.pdf"
   ]
  },
  {
   "cell_type": "markdown",
   "metadata": {},
   "source": [
    "Với các cột có liên quan đến Energy (kcal), Energy chỉ được đo lường bằng kcal từ tháng 10 năm 2020 và để cho đơn giản, ta chỉ xét đến Energy (kcal) nên ta loại bỏ các cột:\n",
    "- Energy (kj)\n",
    "- Energy (Atwater Specific Factors) (kcal)\n",
    "- Energy (Atwater General Factors) (kcal)\n",
    "\n",
    "Với các cột có liên quan đến lipit, ta loại bỏ các cột các loại axit béo, chỉ giữ lại các cột số lượng tổng cộng axit béo cuối cùng để giảm bớt nguy cơ overfitting\n",
    "\n",
    "Với các cột có tỉ lệ dữ liệu bị thiếu trên 25% thì được loại bỏ, các cột bị thiếu còn lại thì sử dụng phương pháp mean để điền dữ liệu bi thiếu"
   ]
  },
  {
   "cell_type": "code",
   "execution_count": 21,
   "metadata": {},
   "outputs": [],
   "source": [
    "class ColDropper(BaseEstimator, TransformerMixin):\n",
    "    def __init__(self, missing_ratio_threshold=0.25):\n",
    "        self.missing_ratio_threshold = missing_ratio_threshold\n",
    "    \n",
    "    def fit(self, X_df, y=None):\n",
    "        self.dropped_cols = set(['Energy (kj)', 'Energy (Atwater Specific Factors) (kcal)', 'Energy (Atwater General Factors) (kcal)'])\n",
    "        cols = X_df.columns\n",
    "        total_fatty_acids = ['Fatty acids, total saturated (g)']\n",
    "        for col in cols:\n",
    "            \n",
    "            if re.search(r'[0-9]+:[0-9]+', col) != None:\n",
    "                self.dropped_cols.add(col)\n",
    "                continue\n",
    "            if col != 'Energy (kcal)' and col not in total_fatty_acids and X_df [f'{col}'].isnull().mean() > self.missing_ratio_threshold : \n",
    "                self.dropped_cols.add(col) \n",
    "      \n",
    "        return self\n",
    "    \n",
    "    def transform(self, X_df, y=None):\n",
    "        trans_df = X_df.drop(self.dropped_cols, axis = 1)\n",
    "        return trans_df"
   ]
  },
  {
   "cell_type": "code",
   "execution_count": 22,
   "metadata": {},
   "outputs": [
    {
     "data": {
      "text/plain": [
       "Pipeline(steps=[('coldropper', ColDropper()),\n",
       "                ('simpleimputer', SimpleImputer()),\n",
       "                ('standardscaler', StandardScaler())])"
      ]
     },
     "execution_count": 22,
     "metadata": {},
     "output_type": "execute_result"
    }
   ],
   "source": [
    "process_pipeline = make_pipeline(ColDropper(missing_ratio_threshold=0.25), SimpleImputer(missing_values=np.NaN, strategy='mean'), StandardScaler())\n",
    "process_pipeline"
   ]
  },
  {
   "cell_type": "code",
   "execution_count": 23,
   "metadata": {},
   "outputs": [],
   "source": [
    "X_train_processed = process_pipeline.fit_transform(X_train)"
   ]
  },
  {
   "cell_type": "code",
   "execution_count": 24,
   "metadata": {},
   "outputs": [
    {
     "name": "stdout",
     "output_type": "stream",
     "text": [
      "(5982, 45)\n"
     ]
    },
    {
     "data": {
      "text/plain": [
       "Pipeline(steps=[('coldropper', ColDropper()),\n",
       "                ('simpleimputer', SimpleImputer()),\n",
       "                ('standardscaler', StandardScaler())])"
      ]
     },
     "execution_count": 24,
     "metadata": {},
     "output_type": "execute_result"
    }
   ],
   "source": [
    "print(X_train_processed.shape)\n",
    "process_pipeline"
   ]
  },
  {
   "cell_type": "code",
   "execution_count": 25,
   "metadata": {},
   "outputs": [
    {
     "data": {
      "image/png": "[encoded data removed]",
      "text/plain": [
       "<Figure size 432x288 with 1 Axes>"
      ]
     },
     "metadata": {
      "needs_background": "light"
     },
     "output_type": "display_data"
    }
   ],
   "source": [
    "pca = PCA().fit(X_train_processed)\n",
    "plt.plot(np.cumsum(pca.explained_variance_ratio_))\n",
    "plt.axhline(y=0.8, color='r', linestyle='-')\n",
    "plt.xlabel('number of components')\n",
    "plt.ylabel('cumulative explained variance');"
   ]
  },
  {
   "cell_type": "markdown",
   "metadata": {},
   "source": [
    "Nhận xét: với n_components = 20 thì độ giữ lại thông tin của mô hình PCA là trên 80%"
   ]
  },
  {
   "cell_type": "code",
   "execution_count": 26,
   "metadata": {},
   "outputs": [],
   "source": [
    "process_pipeline_full = make_pipeline(ColDropper(missing_ratio_threshold=0.25), SimpleImputer(missing_values=np.NaN, strategy='mean'), \n",
    "                                      StandardScaler(), PCA(n_components=20))"
   ]
  },
  {
   "cell_type": "code",
   "execution_count": 27,
   "metadata": {},
   "outputs": [],
   "source": [
    "X_train_processed = process_pipeline_full.fit_transform(X_train)"
   ]
  },
  {
   "cell_type": "code",
   "execution_count": 28,
   "metadata": {},
   "outputs": [
    {
     "data": {
      "text/plain": [
       "(5982, 20)"
      ]
     },
     "execution_count": 28,
     "metadata": {},
     "output_type": "execute_result"
    }
   ],
   "source": [
    "X_train_processed.shape"
   ]
  },
  {
   "cell_type": "markdown",
   "metadata": {},
   "source": [
    "## Tiền xử lý và mô hình hóa (trên tập validation)"
   ]
  },
  {
   "cell_type": "code",
   "execution_count": 29,
   "metadata": {},
   "outputs": [],
   "source": [
    "X_val_processed = process_pipeline_full.transform(X_val)"
   ]
  },
  {
   "cell_type": "markdown",
   "metadata": {},
   "source": [
    "## Mô hình hóa"
   ]
  },
  {
   "cell_type": "markdown",
   "metadata": {},
   "source": [
    "### Tìm mô hình tốt nhất"
   ]
  },
  {
   "cell_type": "markdown",
   "metadata": {},
   "source": [
    "**1. Mô hình Neural Network:**\n",
    "- hidden_layer_sizes=(20), activation=‘tanh’, solver=‘lbfgs’, random_state=0, max_iter=2500\n",
    "- Siêu tham số alpha của MLPRegressor với 5 giá trị khác nhau: 0.1, 1, 10, 100, 1000\n",
    "- Sau khi xây dựng mô hình, tạo một full_pipeline bao gồm process_pipeline_full ở trên và mô hình"
   ]
  },
  {
   "cell_type": "code",
   "execution_count": 30,
   "metadata": {},
   "outputs": [
    {
     "name": "stderr",
     "output_type": "stream",
     "text": [
      "C:\\Users\\PC\\anaconda3\\lib\\site-packages\\sklearn\\neural_network\\_multilayer_perceptron.py:471: ConvergenceWarning: lbfgs failed to converge (status=1):\n",
      "STOP: TOTAL NO. of ITERATIONS REACHED LIMIT.\n",
      "\n",
      "Increase the number of iterations (max_iter) or scale the data as shown in:\n",
      "    https://scikit-learn.org/stable/modules/preprocessing.html\n",
      "  self.n_iter_ = _check_optimize_result(\"lbfgs\", opt_res, self.max_iter)\n",
      "C:\\Users\\PC\\anaconda3\\lib\\site-packages\\sklearn\\neural_network\\_multilayer_perceptron.py:471: ConvergenceWarning: lbfgs failed to converge (status=1):\n",
      "STOP: TOTAL NO. of ITERATIONS REACHED LIMIT.\n",
      "\n",
      "Increase the number of iterations (max_iter) or scale the data as shown in:\n",
      "    https://scikit-learn.org/stable/modules/preprocessing.html\n",
      "  self.n_iter_ = _check_optimize_result(\"lbfgs\", opt_res, self.max_iter)\n",
      "C:\\Users\\PC\\anaconda3\\lib\\site-packages\\sklearn\\neural_network\\_multilayer_perceptron.py:471: ConvergenceWarning: lbfgs failed to converge (status=1):\n",
      "STOP: TOTAL NO. of ITERATIONS REACHED LIMIT.\n",
      "\n",
      "Increase the number of iterations (max_iter) or scale the data as shown in:\n",
      "    https://scikit-learn.org/stable/modules/preprocessing.html\n",
      "  self.n_iter_ = _check_optimize_result(\"lbfgs\", opt_res, self.max_iter)\n",
      "C:\\Users\\PC\\anaconda3\\lib\\site-packages\\sklearn\\neural_network\\_multilayer_perceptron.py:471: ConvergenceWarning: lbfgs failed to converge (status=1):\n",
      "STOP: TOTAL NO. of ITERATIONS REACHED LIMIT.\n",
      "\n",
      "Increase the number of iterations (max_iter) or scale the data as shown in:\n",
      "    https://scikit-learn.org/stable/modules/preprocessing.html\n",
      "  self.n_iter_ = _check_optimize_result(\"lbfgs\", opt_res, self.max_iter)\n"
     ]
    },
    {
     "data": {
      "text/plain": [
       "'Finish!'"
      ]
     },
     "execution_count": 30,
     "metadata": {},
     "output_type": "execute_result"
    }
   ],
   "source": [
    "neural_net = MLPRegressor(hidden_layer_sizes=(20), activation='tanh',\n",
    "                                 solver='lbfgs', max_iter=2500, random_state=0)\n",
    "full_pipeline = make_pipeline(process_pipeline_full, neural_net)\n",
    "\n",
    "# Thử nghiệm với các giá trị khác nhau của các siêu tham số\n",
    "# và chọn ra các giá trị tốt nhất\n",
    "train_errs_1 = []\n",
    "val_errs_1 = []\n",
    "alphas = [0.1, 1, 10, 100, 1000]\n",
    "best_val_err = float('inf'); best_alpha = None;\n",
    "\n",
    "for alpha in alphas:\n",
    "    full_pipeline.set_params(mlpregressor__alpha=alpha)\n",
    "    full_pipeline.fit(X_train, y_train)\n",
    "\n",
    "    train_err = 1-full_pipeline.score(X_train, y_train)\n",
    "    train_errs_1.append(train_err)\n",
    "    val_err = 1-full_pipeline.score(X_val, y_val)\n",
    "    val_errs_1.append(val_err)\n",
    "\n",
    "    if val_err * 100 < best_val_err:\n",
    "        best_val_err = val_err * 100\n",
    "        best_alpha = alpha\n",
    "'Finish!'"
   ]
  },
  {
   "cell_type": "code",
   "execution_count": 31,
   "metadata": {},
   "outputs": [
    {
     "data": {
      "text/plain": [
       "Pipeline(steps=[('pipeline',\n",
       "                 Pipeline(steps=[('coldropper', ColDropper()),\n",
       "                                 ('simpleimputer', SimpleImputer()),\n",
       "                                 ('standardscaler', StandardScaler()),\n",
       "                                 ('pca', PCA(n_components=20))])),\n",
       "                ('mlpregressor',\n",
       "                 MLPRegressor(activation='tanh', alpha=1000,\n",
       "                              hidden_layer_sizes=20, max_iter=2500,\n",
       "                              random_state=0, solver='lbfgs'))])"
      ]
     },
     "execution_count": 31,
     "metadata": {},
     "output_type": "execute_result"
    }
   ],
   "source": [
    "full_pipeline"
   ]
  },
  {
   "cell_type": "code",
   "execution_count": 32,
   "metadata": {},
   "outputs": [
    {
     "name": "stdout",
     "output_type": "stream",
     "text": [
      "100\n",
      "1.384\n"
     ]
    }
   ],
   "source": [
    "print(best_alpha)\n",
    "print(best_val_err.round(3))"
   ]
  },
  {
   "cell_type": "code",
   "execution_count": 33,
   "metadata": {},
   "outputs": [
    {
     "data": {
      "image/png": "[encoded data removed]",
      "text/plain": [
       "<Figure size 720x360 with 2 Axes>"
      ]
     },
     "metadata": {
      "needs_background": "light"
     },
     "output_type": "display_data"
    }
   ],
   "source": [
    "# Trực quan hóa kết quả\n",
    "train_errs_df = pd.DataFrame(data=np.array(train_errs_1).reshape(len(alphas), -1),\n",
    "                             index=alphas)\n",
    "val_errs_df = pd.DataFrame(data=np.array(val_errs_1).reshape(len(alphas), -1), \n",
    "                           index=alphas)\n",
    "min_err = min(min(train_errs_1), min(val_errs_1))\n",
    "max_err = max(max(train_errs_1), max(val_errs_1))\n",
    "plt.figure(figsize=(10, 5))\n",
    "plt.subplot(1, 2, 1)\n",
    "sns.heatmap(train_errs_df, vmin=min_err, vmax=max_err, square=True, annot=True, \n",
    "            cbar=False, fmt='.5f', cmap='Reds')\n",
    "plt.title('train errors'); plt.ylabel('alpha')\n",
    "plt.subplot(1, 2, 2)\n",
    "sns.heatmap(val_errs_df, vmin=min_err, vmax=max_err, square=True, annot=True, \n",
    "            cbar=False, fmt='.5f', cmap='Reds')\n",
    "plt.title('validation errors'); plt.ylabel('alpha');"
   ]
  },
  {
   "cell_type": "markdown",
   "metadata": {},
   "source": [
    "**2. Mô hình SVR (Support Vector Regressor):**\n",
    "- max_iter=10 000\n",
    "- Siêu tham số C của SVR  với 5 giá trị khác nhau: 1, 3, 5, 7, 9 và siêu tham số epsilon với 5 giá trị: 0.1, 0.15, 0.2, 0.25, 0.3. Tham số C ở đây chính là thông số L2 Regularization, độ mạnh của Regularization tỉ lệ nghịch với C. Trong khi đó epsilon biểu thị cho thông số epsilon trong mô hình toán học SVR\n",
    "- Sau khi có được mô hình, tạo full_pipeline2 gồm process_pipeline_full và mô hình SVR này"
   ]
  },
  {
   "cell_type": "code",
   "execution_count": 34,
   "metadata": {},
   "outputs": [
    {
     "data": {
      "text/plain": [
       "'Finish!'"
      ]
     },
     "execution_count": 34,
     "metadata": {},
     "output_type": "execute_result"
    }
   ],
   "source": [
    "support_vector_regression = SVR(max_iter=10000)\n",
    "full_pipeline2 = make_pipeline(process_pipeline_full, support_vector_regression)\n",
    "train_errs_2 = []\n",
    "val_errs_2 = []\n",
    "Cs = [1.0, 3.0, 5.0, 7.0, 9.0]\n",
    "epsilons = [0.1, 0.15, 0.2, 0.25, 0.3]\n",
    "best_val_err = float('inf'); best_c = None; best_epsilon = None;\n",
    "\n",
    "for C in Cs:\n",
    "    for epsilon in epsilons:\n",
    "        full_pipeline2.set_params(svr__C = C, svr__epsilon = epsilon)\n",
    "        full_pipeline2.fit(X_train, y_train)\n",
    "\n",
    "        train_err = 1-full_pipeline2.score(X_train, y_train)\n",
    "        train_errs_2.append(train_err)\n",
    "        val_err = 1-full_pipeline2.score(X_val, y_val)\n",
    "        val_errs_2.append(val_err)\n",
    "\n",
    "        if val_err * 100 < best_val_err:\n",
    "            best_val_err = val_err * 100\n",
    "            best_c = C\n",
    "            best_epsilon = epsilon\n",
    "'Finish!'"
   ]
  },
  {
   "cell_type": "code",
   "execution_count": 35,
   "metadata": {},
   "outputs": [
    {
     "data": {
      "text/plain": [
       "Pipeline(steps=[('pipeline',\n",
       "                 Pipeline(steps=[('coldropper', ColDropper()),\n",
       "                                 ('simpleimputer', SimpleImputer()),\n",
       "                                 ('standardscaler', StandardScaler()),\n",
       "                                 ('pca', PCA(n_components=20))])),\n",
       "                ('svr', SVR(C=9.0, epsilon=0.3, max_iter=10000))])"
      ]
     },
     "execution_count": 35,
     "metadata": {},
     "output_type": "execute_result"
    }
   ],
   "source": [
    "full_pipeline2"
   ]
  },
  {
   "cell_type": "code",
   "execution_count": 36,
   "metadata": {},
   "outputs": [
    {
     "name": "stdout",
     "output_type": "stream",
     "text": [
      "9.0\n",
      "0.1\n",
      "8.845\n"
     ]
    }
   ],
   "source": [
    "print(best_c)\n",
    "print(best_epsilon)\n",
    "print(best_val_err.round(3))"
   ]
  },
  {
   "cell_type": "code",
   "execution_count": 37,
   "metadata": {},
   "outputs": [
    {
     "data": {
      "image/png": "[encoded data removed]",
      "text/plain": [
       "<Figure size 720x360 with 2 Axes>"
      ]
     },
     "metadata": {
      "needs_background": "light"
     },
     "output_type": "display_data"
    }
   ],
   "source": [
    "# Trực quan hóa kết quả\n",
    "train_errs_df = pd.DataFrame(data=np.array(train_errs_2).reshape(len(Cs), -1),\n",
    "                             index=Cs, columns=epsilons)\n",
    "val_errs_df = pd.DataFrame(data=np.array(val_errs_2).reshape(len(Cs), -1), \n",
    "                           index=Cs, columns=epsilons)\n",
    "min_err = min(min(train_errs_2), min(val_errs_2))\n",
    "max_err = max(max(train_errs_2), max(val_errs_2))\n",
    "plt.figure(figsize=(10, 5))\n",
    "plt.subplot(1, 2, 1)\n",
    "sns.heatmap(train_errs_df, vmin=min_err, vmax=max_err, square=True, annot=True, \n",
    "            cbar=False, fmt='.5f', cmap='Reds')\n",
    "plt.title('train errors'); plt.ylabel('C'); plt.xlabel('epsilon');\n",
    "plt.subplot(1, 2, 2)\n",
    "sns.heatmap(val_errs_df, vmin=min_err, vmax=max_err, square=True, annot=True, \n",
    "            cbar=False, fmt='.5f', cmap='Reds')\n",
    "plt.title('validation errors'); plt.ylabel('C'); plt.xlabel('epsilon');"
   ]
  },
  {
   "cell_type": "markdown",
   "metadata": {},
   "source": [
    "**3. Mô hình RandomforestRegressor:**\n",
    "- random_state=0\n",
    "- Siêu tham số n_estimator của RandomForestRegressor  với 5 giá trị khác nhau: 50, 75, 100, 125, 150 và siêu tham số max_depth với 5 giá trị: 16, 32, 64, 128, 256. Với n_estimator là số lượng cây được xây dựng trong mô hình, max_depth là độ sâu lớn nhất của một cây được xây dựng\n",
    "- Sau khi có được mô hình, tạo full_pipeline3 gồm process_pipeline_full và mô hình RandomForestRegressor"
   ]
  },
  {
   "cell_type": "code",
   "execution_count": 38,
   "metadata": {},
   "outputs": [
    {
     "data": {
      "text/plain": [
       "'Finish!'"
      ]
     },
     "execution_count": 38,
     "metadata": {},
     "output_type": "execute_result"
    }
   ],
   "source": [
    "random_forest = RandomForestRegressor()\n",
    "full_pipeline3 = make_pipeline(process_pipeline_full, random_forest)\n",
    "train_errs_3 = []\n",
    "val_errs_3 = []\n",
    "num_estimators = [50, 75, 100, 125, 150]\n",
    "max_depths = [16, 32, 64, 128, 256]\n",
    "best_val_err = float('inf'); best_num = None; best_depth = None;\n",
    "\n",
    "for num_estimator in num_estimators:\n",
    "    for max_depth in max_depths:\n",
    "        full_pipeline3.set_params(randomforestregressor__n_estimators = num_estimator, randomforestregressor__max_depth = max_depth)\n",
    "        full_pipeline3.fit(X_train, y_train)\n",
    "\n",
    "        train_err = 1-full_pipeline3.score(X_train, y_train)\n",
    "        train_errs_3.append(train_err)\n",
    "        val_err = 1-full_pipeline3.score(X_val, y_val)\n",
    "        val_errs_3.append(val_err)\n",
    "\n",
    "        if val_err * 100 < best_val_err:\n",
    "            best_val_err = val_err * 100\n",
    "            best_num = num_estimator\n",
    "            best_depth = max_depth\n",
    "'Finish!'"
   ]
  },
  {
   "cell_type": "code",
   "execution_count": 39,
   "metadata": {},
   "outputs": [
    {
     "data": {
      "text/plain": [
       "Pipeline(steps=[('pipeline',\n",
       "                 Pipeline(steps=[('coldropper', ColDropper()),\n",
       "                                 ('simpleimputer', SimpleImputer()),\n",
       "                                 ('standardscaler', StandardScaler()),\n",
       "                                 ('pca', PCA(n_components=20))])),\n",
       "                ('randomforestregressor',\n",
       "                 RandomForestRegressor(max_depth=256, n_estimators=150))])"
      ]
     },
     "execution_count": 39,
     "metadata": {},
     "output_type": "execute_result"
    }
   ],
   "source": [
    "full_pipeline3"
   ]
  },
  {
   "cell_type": "code",
   "execution_count": 40,
   "metadata": {},
   "outputs": [
    {
     "name": "stdout",
     "output_type": "stream",
     "text": [
      "50\n",
      "128\n",
      "2.129\n"
     ]
    }
   ],
   "source": [
    "print(best_num)\n",
    "print(best_depth)\n",
    "print(best_val_err.round(3))"
   ]
  },
  {
   "cell_type": "code",
   "execution_count": 41,
   "metadata": {},
   "outputs": [
    {
     "data": {
      "image/png": "[encoded data removed]",
      "text/plain": [
       "<Figure size 720x360 with 2 Axes>"
      ]
     },
     "metadata": {
      "needs_background": "light"
     },
     "output_type": "display_data"
    }
   ],
   "source": [
    "# Trực quan hóa kết quả\n",
    "train_errs_df = pd.DataFrame(data=np.array(train_errs_3).reshape(len(num_estimators), -1),\n",
    "                             index=num_estimators, columns=max_depths)\n",
    "val_errs_df = pd.DataFrame(data=np.array(val_errs_3).reshape(len(num_estimators), -1), \n",
    "                           index=num_estimators, columns=max_depths)\n",
    "min_err = min(min(train_errs_3), min(val_errs_3))\n",
    "max_err = max(max(train_errs_3), max(val_errs_3))\n",
    "plt.figure(figsize=(10, 5))\n",
    "plt.subplot(1, 2, 1)\n",
    "sns.heatmap(train_errs_df, vmin=min_err, vmax=max_err, square=True, annot=True, \n",
    "            cbar=False, fmt='.5f', cmap='Reds')\n",
    "plt.title('train errors'); plt.ylabel('num_estimator'); plt.xlabel('best_depth');\n",
    "plt.subplot(1, 2, 2)\n",
    "sns.heatmap(val_errs_df, vmin=min_err, vmax=max_err, square=True, annot=True, \n",
    "            cbar=False, fmt='.5f', cmap='Reds')\n",
    "plt.title('validation errors'); plt.ylabel('num_estimator'); plt.xlabel('best_depth');"
   ]
  },
  {
   "cell_type": "markdown",
   "metadata": {},
   "source": [
    "### Đánh giá kết quả trên tập validation của 3 mô hình thu được:\n",
    "- Mô hình Neural Network, RandomForest cho ra kết quả khả quan, tỉ lệ đúng trên tập validation cao, trong khi đó mô hình SVR lại không cho kết quả tốt bằng 2 mô hình trên\n",
    "- Việc lựa chọn giữa 2 mô hình Neural Network và RandomForest lúc này mang ý nghĩa hơi chủ quan vì nó còn phụ thuộc vào siêu tham số ta chọn, đồng thời kết quả hai mô hình đều tốt\n",
    "- Cuối cùng nhóm lựa chọn mô hình Neural Network vì tốc độ thực hiện ở Neural Network có phần nhỉnh hơn so với RandomForest, đem đi thực nghiệm trên tập test và sau đây là kết quả thu được:"
   ]
  },
  {
   "cell_type": "code",
   "execution_count": 42,
   "metadata": {
    "scrolled": false
   },
   "outputs": [
    {
     "name": "stderr",
     "output_type": "stream",
     "text": [
      "C:\\Users\\PC\\anaconda3\\lib\\site-packages\\sklearn\\neural_network\\_multilayer_perceptron.py:471: ConvergenceWarning: lbfgs failed to converge (status=1):\n",
      "STOP: TOTAL NO. of ITERATIONS REACHED LIMIT.\n",
      "\n",
      "Increase the number of iterations (max_iter) or scale the data as shown in:\n",
      "    https://scikit-learn.org/stable/modules/preprocessing.html\n",
      "  self.n_iter_ = _check_optimize_result(\"lbfgs\", opt_res, self.max_iter)\n"
     ]
    }
   ],
   "source": [
    "# Chạy fit trên tập X_train_df, tập này chính là X_train + X_val ở trên, thực hiện dự đoán trên X_test\n",
    "full_pipeline.set_params(mlpregressor__alpha=best_alpha)\n",
    "full_pipeline.fit(X_train_df, y_train_sr)\n",
    "preds = full_pipeline.predict(X_test).round(3)"
   ]
  },
  {
   "cell_type": "code",
   "execution_count": 43,
   "metadata": {},
   "outputs": [
    {
     "data": {
      "text/html": [
       "<div>\n",
       "<style scoped>\n",
       "    .dataframe tbody tr th:only-of-type {\n",
       "        vertical-align: middle;\n",
       "    }\n",
       "\n",
       "    .dataframe tbody tr th {\n",
       "        vertical-align: top;\n",
       "    }\n",
       "\n",
       "    .dataframe thead th {\n",
       "        text-align: right;\n",
       "    }\n",
       "</style>\n",
       "<table border=\"1\" class=\"dataframe\">\n",
       "  <thead>\n",
       "    <tr style=\"text-align: right;\">\n",
       "      <th></th>\n",
       "      <th>Predict</th>\n",
       "      <th>Actual</th>\n",
       "    </tr>\n",
       "    <tr>\n",
       "      <th>fdcId</th>\n",
       "      <th></th>\n",
       "      <th></th>\n",
       "    </tr>\n",
       "  </thead>\n",
       "  <tbody>\n",
       "    <tr>\n",
       "      <th>171511</th>\n",
       "      <td>143.174</td>\n",
       "      <td>140.0</td>\n",
       "    </tr>\n",
       "    <tr>\n",
       "      <th>174123</th>\n",
       "      <td>41.424</td>\n",
       "      <td>55.0</td>\n",
       "    </tr>\n",
       "    <tr>\n",
       "      <th>168032</th>\n",
       "      <td>487.034</td>\n",
       "      <td>900.0</td>\n",
       "    </tr>\n",
       "    <tr>\n",
       "      <th>1100345</th>\n",
       "      <td>127.950</td>\n",
       "      <td>131.0</td>\n",
       "    </tr>\n",
       "    <tr>\n",
       "      <th>1098160</th>\n",
       "      <td>240.582</td>\n",
       "      <td>235.0</td>\n",
       "    </tr>\n",
       "    <tr>\n",
       "      <th>...</th>\n",
       "      <td>...</td>\n",
       "      <td>...</td>\n",
       "    </tr>\n",
       "    <tr>\n",
       "      <th>173393</th>\n",
       "      <td>265.567</td>\n",
       "      <td>253.0</td>\n",
       "    </tr>\n",
       "    <tr>\n",
       "      <th>1101689</th>\n",
       "      <td>359.633</td>\n",
       "      <td>372.0</td>\n",
       "    </tr>\n",
       "    <tr>\n",
       "      <th>1102226</th>\n",
       "      <td>115.610</td>\n",
       "      <td>121.0</td>\n",
       "    </tr>\n",
       "    <tr>\n",
       "      <th>168765</th>\n",
       "      <td>468.369</td>\n",
       "      <td>474.0</td>\n",
       "    </tr>\n",
       "    <tr>\n",
       "      <th>174706</th>\n",
       "      <td>201.906</td>\n",
       "      <td>191.0</td>\n",
       "    </tr>\n",
       "  </tbody>\n",
       "</table>\n",
       "<p>1995 rows × 2 columns</p>\n",
       "</div>"
      ],
      "text/plain": [
       "         Predict  Actual\n",
       "fdcId                   \n",
       "171511   143.174   140.0\n",
       "174123    41.424    55.0\n",
       "168032   487.034   900.0\n",
       "1100345  127.950   131.0\n",
       "1098160  240.582   235.0\n",
       "...          ...     ...\n",
       "173393   265.567   253.0\n",
       "1101689  359.633   372.0\n",
       "1102226  115.610   121.0\n",
       "168765   468.369   474.0\n",
       "174706   201.906   191.0\n",
       "\n",
       "[1995 rows x 2 columns]"
      ]
     },
     "execution_count": 43,
     "metadata": {},
     "output_type": "execute_result"
    }
   ],
   "source": [
    "# So sánh kết quả predict với kết quả actual\n",
    "preds = pd.DataFrame(preds, index=y_test.index).rename(columns={0: 'Predict'})\n",
    "preds = preds.assign(Actual = y_test)\n",
    "preds"
   ]
  },
  {
   "cell_type": "code",
   "execution_count": 44,
   "metadata": {},
   "outputs": [
    {
     "data": {
      "text/plain": [
       "0.975"
      ]
     },
     "execution_count": 44,
     "metadata": {},
     "output_type": "execute_result"
    }
   ],
   "source": [
    "# Tính kết quả độ chính xác của mô hình trên tập y_test\n",
    "results = full_pipeline.score(X_test, y_test)\n",
    "results.round(3)"
   ]
  },
  {
   "cell_type": "markdown",
   "metadata": {},
   "source": [
    "## Nhìn lại quá trình làm đồ án\n",
    "- Khó khăn:\n",
    "    - Khó khăn trong việc đi tìm nguồn dữ liệu chính thống với thông tin chính xác, ít nhiễu, ít thô\n",
    "    - Khó khăn trong việc tìm hiểu các siêu tham số của các mô hình được chọn để test\n",
    "    - Khá gấp rút làm đồ án vì vướng trong thời gian thi cử\n",
    "    - Khó khăn trong việc tìm hiểu về knowledge domain của dữ liệu\n",
    "    - Khó khăn trong việc tiền xử lý dữ liệu\n",
    "- Những điều hữu ích học được:\n",
    "    - Kĩ năng khám phá và tiền xử lý dữ liệu\n",
    "    - Được làm việc hoàn chỉnh trên một mô hình khoa học dữ liệu\n",
    "    - Kĩ năng đọc và tìm hiểu dữ liệu, cũng như nghiên cứu các mô hình\n",
    "- Nếu có thêm thời gian chúng em sẽ:\n",
    "    - Dành thời gian nghiên cứu nhiều hơn về siêu tham số trong các mô hình, xem thử có thể tối ưu hơn nữa hay không\n",
    "    - Chuẩn bị slide báo cáo hoàn chỉnh hơn, tìm hiểu github kĩ hơn\n",
    "    - Tìm hiểu knowledge domain kĩ hơn\n",
    "    - Tiền xử lý dữ liệu để dữ liệu sạch và chuẩn hơn"
   ]
  },
  {
   "cell_type": "markdown",
   "metadata": {},
   "source": [
    "## Tài liệu tham khảo\n",
    "- 1. sklearn.ensemble.RandomForestRegressor — scikit-learn 0.24.0 documentation (scikit-learn.org)\n",
    "- 2. sklearn.svm.SVR — scikit-learn 0.24.0 documentation (scikit-learn.org)\n",
    "- 3. FoodData Central (usda.gov)\n",
    "- 4. Composition of Foods (usda.gov)\n",
    "- 5. https://www.ars.usda.gov/ARSUSERFILES/80400535/DATA/CLASSICS/USDA%20HANDBOOK%2074.PDF\n"
   ]
  },
  {
   "cell_type": "markdown",
   "metadata": {},
   "source": [
    "## The end\n",
    "### Chúng em xin chân thành cảm ơn thầy ạ ^^"
   ]
  }
 ],
 "metadata": {
  "kernelspec": {
   "display_name": "Python 3",
   "language": "python",
   "name": "python3"
  },
  "language_info": {
   "codemirror_mode": {
    "name": "ipython",
    "version": 3
   },
   "file_extension": ".py",
   "mimetype": "text/x-python",
   "name": "python",
   "nbconvert_exporter": "python",
   "pygments_lexer": "ipython3",
   "version": "3.8.5"
  }
 },
 "nbformat": 4,
 "nbformat_minor": 4
}
